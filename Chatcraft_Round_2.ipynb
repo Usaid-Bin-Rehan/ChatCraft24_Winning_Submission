{
  "cells": [
    {
      "cell_type": "markdown",
      "source": [
        "# Dependencies"
      ],
      "metadata": {
        "id": "8EpU1F6YqJ2Y"
      }
    },
    {
      "cell_type": "code",
      "execution_count": null,
      "metadata": {
        "id": "kcH_1C1HwNDo"
      },
      "outputs": [],
      "source": [
        "import tensorflow as tf\n",
        "import numpy as np\n",
        "import pandas as pd\n",
        "import json\n",
        "import nltk\n",
        "from tensorflow.keras.preprocessing.text import Tokenizer\n",
        "from tensorflow.keras.layers import Input, Embedding, LSTM, Dense, GlobalMaxPooling1D,Flatten , Dropout\n",
        "from tensorflow.keras.models import Model\n",
        "import matplotlib.pyplot as plt\n",
        "from tensorflow.keras.preprocessing.sequence import pad_sequences\n",
        "from sklearn.preprocessing import LabelEncoder\n",
        "from pandas.io.formats.format import return_docstring\n",
        "import random"
      ]
    },
    {
      "cell_type": "code",
      "source": [
        "from tensorflow.keras.optimizers import SGD\n",
        "from keras.models import Sequential\n",
        "from nltk.stem import WordNetLemmatizer\n",
        "lemmatizer = WordNetLemmatizer()\n",
        "nltk.download('omw-1.4')\n",
        "nltk.download(\"punkt\")\n",
        "nltk.download(\"wordnet\")"
      ],
      "metadata": {
        "id": "xA_NWkuyxiXL"
      },
      "execution_count": null,
      "outputs": []
    },
    {
      "cell_type": "markdown",
      "metadata": {
        "id": "uphI0NcFxMt3"
      },
      "source": [
        "# Q1\n"
      ]
    },
    {
      "cell_type": "markdown",
      "source": [
        "**Design a intent file on below data**"
      ],
      "metadata": {
        "id": "xww6wmIGq6ky"
      }
    },
    {
      "cell_type": "markdown",
      "metadata": {
        "id": "Mg4aE1Z0xUUT"
      },
      "source": [
        "\n",
        "\n",
        "What is artificial intelligence?\tArtificial intelligence is a branch of computer science that aims to create intelligent machines capable of performing tasks that typically require human intelligence.\n",
        "How does machine learning work?\tMachine learning is a subset of AI that provides systems the ability to automatically learn and improve from experience without being explicitly programmed.\n",
        "Explain the concept of deep learning.\tDeep learning is a type of machine learning that involves neural networks with many layers (deep neural networks). It is particularly effective for tasks such as image and speech recognition.\n",
        "What are neural networks?\tNeural networks are computational models inspired by the structure and functioning of the human brain. They consist of interconnected nodes (neurons) that process information.\n",
        "How is natural language processing used in AI?\tNatural language processing (NLP) involves the interaction between computers and humans using natural language. It enables machines to understand, interpret, and generate human-like text.\n",
        "What is the difference between supervised and unsupervised learning?\tIn supervised learning, the algorithm is trained on a labeled dataset, while unsupervised learning involves training on an unlabeled dataset, letting the algorithm find patterns on its own.\n",
        "Can you provide examples of AI applications in real life?\tAI has applications in various fields, including healthcare (diagnosis and treatment planning), finance (fraud detection), autonomous vehicles, virtual assistants, and more.\n",
        "What are the ethical considerations in AI development?\tEthical considerations in AI development include issues related to bias in algorithms, transparency, accountability, job displacement, and the impact on privacy.\n",
        "How does reinforcement learning work?\tReinforcement learning involves an agent learning through trial and error. It receives feedback in the form of rewards or penalties based on its actions in an environment.\n",
        "What is computer vision?\tComputer vision enables machines to interpret and make decisions based on visual data. It is used in image and video analysis, facial recognition, object detection, and more.\n",
        "Explain the Turing test.\tThe Turing test is a measure of a machine's ability to exhibit intelligent behavior equivalent to or indistinguishable from that of a human. It assesses natural language conversation.\n",
        "What are the challenges in developing strong AI?\tChallenges in developing strong AI include achieving common sense reasoning, understanding context, ethical concerns, and addressing potential risks and biases in AI systems.\n",
        "How is AI leveraged in the field of agriculture for precision farming?\tAI is utilized in agriculture for precision farming through applications like crop monitoring, automated harvesting, and optimizing resource utilization for sustainable and efficient farming practices.\n",
        "In what ways does AI contribute to the cybersecurity landscape?\tAI enhances cybersecurity by identifying and responding to threats in real-time, predicting potential vulnerabilities, and improving overall resilience against cyber attacks.\n",
        "Can AI assist in drug discovery and development in the pharmaceutical industry?\tAI accelerates drug discovery by analyzing biological data, predicting potential drug candidates, and streamlining the process of bringing new pharmaceuticals to market.\n",
        "What ethical considerations arise with the use of AI in criminal justice systems?\tThe use of AI in criminal justice raises ethical concerns related to bias, transparency, and fairness, prompting discussions on responsible and unbiased deployment of AI technologies.\n",
        "How does AI impact environmental sustainability efforts?\tAI contributes to environmental sustainability by optimizing resource management, monitoring pollution levels, and facilitating data-driven decision-making for sustainable development.\n",
        "In what ways can AI be applied to enhance customer experience in various industries?\tAI improves customer experience through personalized recommendations, chatbots for customer support, and predictive analytics to understand and meet customer preferences.\n",
        "What challenges and opportunities does AI present in the realm of space exploration?\tAI presents challenges and opportunities in space exploration by aiding in autonomous spacecraft navigation, data analysis, and the development of intelligent robotic systems for space missions.\n",
        "What is the role of AI in augmenting human capabilities in the workplace?\tAI augments human capabilities in the workplace by automating routine tasks, providing data-driven insights, and facilitating collaboration between humans and intelligent systems.\n",
        "Can AI be used to address societal challenges such as poverty and inequality?\tAI has the potential to address societal challenges by supporting data-driven decision-making in areas like poverty alleviation, healthcare accessibility, and education opportunities.\n",
        "How can AI contribute to language translation and cross-cultural communication?\tAI enhances language translation by employing natural language processing techniques, enabling more accurate and efficient cross-cultural communication in diverse global contexts.\n"
      ]
    },
    {
      "cell_type": "code",
      "source": [
        "with open(\"Text.txt\") as f:\n",
        "  text = f.read()\n",
        "\n",
        "questions= []\n",
        "responses = []\n",
        "for line in text.split('\\t'):\n",
        "  for y in line.split('\\n'):\n",
        "    if '?' in y:\n",
        "      questions.append(y)\n",
        "    else:\n",
        "      if len(y) > 0:\n",
        "        responses.append(y)\n",
        "\n",
        "questions"
      ],
      "metadata": {
        "id": "MPhSLLatnCHZ",
        "outputId": "74786f20-2332-477b-8036-f7f790aca971",
        "colab": {
          "base_uri": "https://localhost:8080/"
        }
      },
      "execution_count": null,
      "outputs": [
        {
          "output_type": "execute_result",
          "data": {
            "text/plain": [
              "['What is artificial intelligence?',\n",
              " 'How does machine learning work?',\n",
              " 'What are neural networks?',\n",
              " 'How is natural language processing used in AI?',\n",
              " 'What is the difference between supervised and unsupervised learning?',\n",
              " 'Can you provide examples of AI applications in real life?',\n",
              " 'What are the ethical considerations in AI development?',\n",
              " 'How does reinforcement learning work?',\n",
              " 'What is computer vision?',\n",
              " 'What are the challenges in developing strong AI?',\n",
              " 'How is AI leveraged in the field of agriculture for precision farming?',\n",
              " 'In what ways does AI contribute to the cybersecurity landscape?',\n",
              " 'Can AI assist in drug discovery and development in the pharmaceutical industry?',\n",
              " 'What ethical considerations arise with the use of AI in criminal justice systems?',\n",
              " 'How does AI impact environmental sustainability efforts?',\n",
              " 'In what ways can AI be applied to enhance customer experience in various industries?',\n",
              " 'What challenges and opportunities does AI present in the realm of space exploration?',\n",
              " 'What is the role of AI in augmenting human capabilities in the workplace?',\n",
              " 'Can AI be used to address societal challenges such as poverty and inequality?',\n",
              " 'How can AI contribute to language translation and cross-cultural communication?']"
            ]
          },
          "metadata": {},
          "execution_count": 43
        }
      ]
    },
    {
      "cell_type": "code",
      "source": [
        "responses"
      ],
      "metadata": {
        "id": "IsQcKdYwoYLH",
        "outputId": "b268511c-aed4-49b9-abf2-4dd0435de0a1",
        "colab": {
          "base_uri": "https://localhost:8080/"
        }
      },
      "execution_count": null,
      "outputs": [
        {
          "output_type": "execute_result",
          "data": {
            "text/plain": [
              "['Artificial intelligence is a branch of computer science that aims to create intelligent machines capable of performing tasks that typically require human intelligence.',\n",
              " 'Machine learning is a subset of AI that provides systems the ability to automatically learn and improve from experience without being explicitly programmed.',\n",
              " 'Explain the concept of deep learning.',\n",
              " 'Deep learning is a type of machine learning that involves neural networks with many layers (deep neural networks). It is particularly effective for tasks such as image and speech recognition.',\n",
              " 'Neural networks are computational models inspired by the structure and functioning of the human brain. They consist of interconnected nodes (neurons) that process information.',\n",
              " 'Natural language processing (NLP) involves the interaction between computers and humans using natural language. It enables machines to understand, interpret, and generate human-like text.',\n",
              " 'In supervised learning, the algorithm is trained on a labeled dataset, while unsupervised learning involves training on an unlabeled dataset, letting the algorithm find patterns on its own.',\n",
              " 'AI has applications in various fields, including healthcare (diagnosis and treatment planning), finance (fraud detection), autonomous vehicles, virtual assistants, and more.',\n",
              " 'Ethical considerations in AI development include issues related to bias in algorithms, transparency, accountability, job displacement, and the impact on privacy.',\n",
              " 'Reinforcement learning involves an agent learning through trial and error. It receives feedback in the form of rewards or penalties based on its actions in an environment.',\n",
              " 'Computer vision enables machines to interpret and make decisions based on visual data. It is used in image and video analysis, facial recognition, object detection, and more.',\n",
              " 'Explain the Turing test.',\n",
              " \"The Turing test is a measure of a machine's ability to exhibit intelligent behavior equivalent to or indistinguishable from that of a human. It assesses natural language conversation.\",\n",
              " 'Challenges in developing strong AI include achieving common sense reasoning, understanding context, ethical concerns, and addressing potential risks and biases in AI systems.',\n",
              " 'AI is utilized in agriculture for precision farming through applications like crop monitoring, automated harvesting, and optimizing resource utilization for sustainable and efficient farming practices.',\n",
              " 'AI enhances cybersecurity by identifying and responding to threats in real-time, predicting potential vulnerabilities, and improving overall resilience against cyber attacks.',\n",
              " 'AI accelerates drug discovery by analyzing biological data, predicting potential drug candidates, and streamlining the process of bringing new pharmaceuticals to market.',\n",
              " 'The use of AI in criminal justice raises ethical concerns related to bias, transparency, and fairness, prompting discussions on responsible and unbiased deployment of AI technologies.',\n",
              " 'AI contributes to environmental sustainability by optimizing resource management, monitoring pollution levels, and facilitating data-driven decision-making for sustainable development.',\n",
              " 'AI improves customer experience through personalized recommendations, chatbots for customer support, and predictive analytics to understand and meet customer preferences.',\n",
              " 'AI presents challenges and opportunities in space exploration by aiding in autonomous spacecraft navigation, data analysis, and the development of intelligent robotic systems for space missions.',\n",
              " 'AI augments human capabilities in the workplace by automating routine tasks, providing data-driven insights, and facilitating collaboration between humans and intelligent systems.',\n",
              " 'AI has the potential to address societal challenges by supporting data-driven decision-making in areas like poverty alleviation, healthcare accessibility, and education opportunities.',\n",
              " 'AI enhances language translation by employing natural language processing techniques, enabling more accurate and efficient cross-cultural communication in diverse global contexts.']"
            ]
          },
          "metadata": {},
          "execution_count": 44
        }
      ]
    },
    {
      "cell_type": "code",
      "source": [
        "new_intent = {\"tag\":\"AI\", \"patterns\" : questions , \"responses\" : responses}\n",
        "new_intent"
      ],
      "metadata": {
        "id": "qTu4ci4zo5CP",
        "outputId": "2c5b793d-61c8-423e-f31e-d8611a2f5611",
        "colab": {
          "base_uri": "https://localhost:8080/"
        }
      },
      "execution_count": null,
      "outputs": [
        {
          "output_type": "execute_result",
          "data": {
            "text/plain": [
              "{'tag': 'AI',\n",
              " 'patterns': ['What is artificial intelligence?',\n",
              "  'How does machine learning work?',\n",
              "  'What are neural networks?',\n",
              "  'How is natural language processing used in AI?',\n",
              "  'What is the difference between supervised and unsupervised learning?',\n",
              "  'Can you provide examples of AI applications in real life?',\n",
              "  'What are the ethical considerations in AI development?',\n",
              "  'How does reinforcement learning work?',\n",
              "  'What is computer vision?',\n",
              "  'What are the challenges in developing strong AI?',\n",
              "  'How is AI leveraged in the field of agriculture for precision farming?',\n",
              "  'In what ways does AI contribute to the cybersecurity landscape?',\n",
              "  'Can AI assist in drug discovery and development in the pharmaceutical industry?',\n",
              "  'What ethical considerations arise with the use of AI in criminal justice systems?',\n",
              "  'How does AI impact environmental sustainability efforts?',\n",
              "  'In what ways can AI be applied to enhance customer experience in various industries?',\n",
              "  'What challenges and opportunities does AI present in the realm of space exploration?',\n",
              "  'What is the role of AI in augmenting human capabilities in the workplace?',\n",
              "  'Can AI be used to address societal challenges such as poverty and inequality?',\n",
              "  'How can AI contribute to language translation and cross-cultural communication?'],\n",
              " 'responses': ['Artificial intelligence is a branch of computer science that aims to create intelligent machines capable of performing tasks that typically require human intelligence.',\n",
              "  'Machine learning is a subset of AI that provides systems the ability to automatically learn and improve from experience without being explicitly programmed.',\n",
              "  'Explain the concept of deep learning.',\n",
              "  'Deep learning is a type of machine learning that involves neural networks with many layers (deep neural networks). It is particularly effective for tasks such as image and speech recognition.',\n",
              "  'Neural networks are computational models inspired by the structure and functioning of the human brain. They consist of interconnected nodes (neurons) that process information.',\n",
              "  'Natural language processing (NLP) involves the interaction between computers and humans using natural language. It enables machines to understand, interpret, and generate human-like text.',\n",
              "  'In supervised learning, the algorithm is trained on a labeled dataset, while unsupervised learning involves training on an unlabeled dataset, letting the algorithm find patterns on its own.',\n",
              "  'AI has applications in various fields, including healthcare (diagnosis and treatment planning), finance (fraud detection), autonomous vehicles, virtual assistants, and more.',\n",
              "  'Ethical considerations in AI development include issues related to bias in algorithms, transparency, accountability, job displacement, and the impact on privacy.',\n",
              "  'Reinforcement learning involves an agent learning through trial and error. It receives feedback in the form of rewards or penalties based on its actions in an environment.',\n",
              "  'Computer vision enables machines to interpret and make decisions based on visual data. It is used in image and video analysis, facial recognition, object detection, and more.',\n",
              "  'Explain the Turing test.',\n",
              "  \"The Turing test is a measure of a machine's ability to exhibit intelligent behavior equivalent to or indistinguishable from that of a human. It assesses natural language conversation.\",\n",
              "  'Challenges in developing strong AI include achieving common sense reasoning, understanding context, ethical concerns, and addressing potential risks and biases in AI systems.',\n",
              "  'AI is utilized in agriculture for precision farming through applications like crop monitoring, automated harvesting, and optimizing resource utilization for sustainable and efficient farming practices.',\n",
              "  'AI enhances cybersecurity by identifying and responding to threats in real-time, predicting potential vulnerabilities, and improving overall resilience against cyber attacks.',\n",
              "  'AI accelerates drug discovery by analyzing biological data, predicting potential drug candidates, and streamlining the process of bringing new pharmaceuticals to market.',\n",
              "  'The use of AI in criminal justice raises ethical concerns related to bias, transparency, and fairness, prompting discussions on responsible and unbiased deployment of AI technologies.',\n",
              "  'AI contributes to environmental sustainability by optimizing resource management, monitoring pollution levels, and facilitating data-driven decision-making for sustainable development.',\n",
              "  'AI improves customer experience through personalized recommendations, chatbots for customer support, and predictive analytics to understand and meet customer preferences.',\n",
              "  'AI presents challenges and opportunities in space exploration by aiding in autonomous spacecraft navigation, data analysis, and the development of intelligent robotic systems for space missions.',\n",
              "  'AI augments human capabilities in the workplace by automating routine tasks, providing data-driven insights, and facilitating collaboration between humans and intelligent systems.',\n",
              "  'AI has the potential to address societal challenges by supporting data-driven decision-making in areas like poverty alleviation, healthcare accessibility, and education opportunities.',\n",
              "  'AI enhances language translation by employing natural language processing techniques, enabling more accurate and efficient cross-cultural communication in diverse global contexts.']}"
            ]
          },
          "metadata": {},
          "execution_count": 45
        }
      ]
    },
    {
      "cell_type": "code",
      "execution_count": null,
      "metadata": {
        "colab": {
          "base_uri": "https://localhost:8080/"
        },
        "id": "6pTdmfM3x9kI",
        "outputId": "d395614c-f00e-4f41-bb23-ef60237d4feb"
      },
      "outputs": [
        {
          "output_type": "stream",
          "name": "stdout",
          "text": [
            "intents.json has been created.\n"
          ]
        }
      ],
      "source": [
        "intents_data = {\n",
        "\n",
        "  \"intents\": [\n",
        "        {\n",
        "            \"tag\": \"greeting\",\n",
        "            \"patterns\": [\"Hi there\", \"How are you\", \"Is anyone there?\", \"Hey\", \"Hola\", \"Hello\", \"Good day\"],\n",
        "            \"responses\": [\"Hello\", \"Good to see you again\", \"Hi there, how can I help?\"],\n",
        "         },\n",
        "        {\n",
        "            \"tag\": \"goodbye\",\n",
        "            \"patterns\": [\"Bye\", \"See you later\", \"Goodbye\", \"Nice chatting to you, bye\", \"Till next time\"],\n",
        "            \"responses\": [\"See you!\", \"Have a nice day\", \"Bye! Come back again soon.\"],\n",
        "         },\n",
        "        {\n",
        "            \"tag\": \"thanks\",\n",
        "            \"patterns\": [\"Thanks\", \"Thank you\", \"That's helpful\", \"Awesome, thanks\", \"Thanks for helping me\"],\n",
        "            \"responses\": [\"My pleasure\", \"You're Welcome\"],\n",
        "         }, {\n",
        "            \"tag\": \"personalized_healthcare\",\n",
        "            \"responses\": [\"AI in personalized healthcare involves analyzing individual patient data to tailor treatment plans.\", \"It uses machine learning to customize medical approaches based on patient information.\"]\n",
        "        },\n",
        "        {\n",
        "            \"tag\": \"autonomous_vehicles\",\n",
        "            \"responses\": [\"AI plays a crucial role in autonomous vehicles by enabling perception, decision-making, and safe navigation.\", \"It utilizes machine learning algorithms and computer vision systems for self-driving capabilities.\"]\n",
        "        },\n",
        "        {\n",
        "            \"tag\": \"creative_ai\",\n",
        "            \"responses\": [\"Yes, AI can be used for creative purposes through generative models.\", \"It can create art, compose music, and even write stories based on learned patterns.\"]\n",
        "        },\n",
        "        {\n",
        "            \"tag\": \"ai_risks\",\n",
        "            \"responses\": [\"Potential risks of widespread AI adoption include job displacement, ethical concerns, biases, security vulnerabilities, and misuse of AI technologies.\", \"Careful consideration is essential to mitigate these risks.\"]\n",
        "        },\n",
        "        {\n",
        "            \"tag\": \"ai_education\",\n",
        "            \"responses\": [\"AI in education aids in personalized learning, automated grading, and adaptive educational systems.\", \"It identifies student learning patterns and provides targeted interventions.\"]\n",
        "        },\n",
        "  ]\n",
        "}\n",
        "\n",
        "intents_data[\"intents\"].append(new_intent)\n",
        "new_intents = {\"intents\" : []}\n",
        "\n",
        "for dictt in intents_data[\"intents\"]:\n",
        "  if 'patterns' not in dictt.keys():\n",
        "    dictt[\"patterns\"] = []\n",
        "  new_intents[\"intents\"].append(dictt)\n",
        "\n",
        "with open('content.json', 'w') as file:\n",
        "    json.dump(new_intents, file, indent=4)\n",
        "\n",
        "print(\"intents.json has been created.\")"
      ]
    },
    {
      "cell_type": "markdown",
      "metadata": {
        "id": "FxlgSBGzzMCG"
      },
      "source": [
        "# Q2\n"
      ]
    },
    {
      "cell_type": "markdown",
      "source": [
        "**Convert the .json file to an appropriate dataframe**"
      ],
      "metadata": {
        "id": "JUGB_GcNqrMZ"
      }
    },
    {
      "cell_type": "code",
      "execution_count": null,
      "metadata": {
        "id": "qZUvgg6Gzbu5",
        "outputId": "98e79b07-8d2b-4cf2-d862-9d07b470b391",
        "colab": {
          "base_uri": "https://localhost:8080/",
          "height": 332
        }
      },
      "outputs": [
        {
          "output_type": "execute_result",
          "data": {
            "text/plain": [
              "                       tag                                           patterns  \\\n",
              "0                 greeting  [Hi there, How are you, Is anyone there?, Hey,...   \n",
              "1                  goodbye  [Bye, See you later, Goodbye, Nice chatting to...   \n",
              "2                   thanks  [Thanks, Thank you, That's helpful, Awesome, t...   \n",
              "3  personalized_healthcare                                                 []   \n",
              "4      autonomous_vehicles                                                 []   \n",
              "5              creative_ai                                                 []   \n",
              "6                 ai_risks                                                 []   \n",
              "7             ai_education                                                 []   \n",
              "8                       AI  [What is artificial intelligence?, How does ma...   \n",
              "\n",
              "                                           responses  \n",
              "0  [Hello, Good to see you again, Hi there, how c...  \n",
              "1  [See you!, Have a nice day, Bye! Come back aga...  \n",
              "2                      [My pleasure, You're Welcome]  \n",
              "3  [AI in personalized healthcare involves analyz...  \n",
              "4  [AI plays a crucial role in autonomous vehicle...  \n",
              "5  [Yes, AI can be used for creative purposes thr...  \n",
              "6  [Potential risks of widespread AI adoption inc...  \n",
              "7  [AI in education aids in personalized learning...  \n",
              "8  [Artificial intelligence is a branch of comput...  "
            ],
            "text/html": [
              "\n",
              "  <div id=\"df-0c4abaea-e1c8-4af4-968f-4d98fcfc5f8c\" class=\"colab-df-container\">\n",
              "    <div>\n",
              "<style scoped>\n",
              "    .dataframe tbody tr th:only-of-type {\n",
              "        vertical-align: middle;\n",
              "    }\n",
              "\n",
              "    .dataframe tbody tr th {\n",
              "        vertical-align: top;\n",
              "    }\n",
              "\n",
              "    .dataframe thead th {\n",
              "        text-align: right;\n",
              "    }\n",
              "</style>\n",
              "<table border=\"1\" class=\"dataframe\">\n",
              "  <thead>\n",
              "    <tr style=\"text-align: right;\">\n",
              "      <th></th>\n",
              "      <th>tag</th>\n",
              "      <th>patterns</th>\n",
              "      <th>responses</th>\n",
              "    </tr>\n",
              "  </thead>\n",
              "  <tbody>\n",
              "    <tr>\n",
              "      <th>0</th>\n",
              "      <td>greeting</td>\n",
              "      <td>[Hi there, How are you, Is anyone there?, Hey,...</td>\n",
              "      <td>[Hello, Good to see you again, Hi there, how c...</td>\n",
              "    </tr>\n",
              "    <tr>\n",
              "      <th>1</th>\n",
              "      <td>goodbye</td>\n",
              "      <td>[Bye, See you later, Goodbye, Nice chatting to...</td>\n",
              "      <td>[See you!, Have a nice day, Bye! Come back aga...</td>\n",
              "    </tr>\n",
              "    <tr>\n",
              "      <th>2</th>\n",
              "      <td>thanks</td>\n",
              "      <td>[Thanks, Thank you, That's helpful, Awesome, t...</td>\n",
              "      <td>[My pleasure, You're Welcome]</td>\n",
              "    </tr>\n",
              "    <tr>\n",
              "      <th>3</th>\n",
              "      <td>personalized_healthcare</td>\n",
              "      <td>[]</td>\n",
              "      <td>[AI in personalized healthcare involves analyz...</td>\n",
              "    </tr>\n",
              "    <tr>\n",
              "      <th>4</th>\n",
              "      <td>autonomous_vehicles</td>\n",
              "      <td>[]</td>\n",
              "      <td>[AI plays a crucial role in autonomous vehicle...</td>\n",
              "    </tr>\n",
              "    <tr>\n",
              "      <th>5</th>\n",
              "      <td>creative_ai</td>\n",
              "      <td>[]</td>\n",
              "      <td>[Yes, AI can be used for creative purposes thr...</td>\n",
              "    </tr>\n",
              "    <tr>\n",
              "      <th>6</th>\n",
              "      <td>ai_risks</td>\n",
              "      <td>[]</td>\n",
              "      <td>[Potential risks of widespread AI adoption inc...</td>\n",
              "    </tr>\n",
              "    <tr>\n",
              "      <th>7</th>\n",
              "      <td>ai_education</td>\n",
              "      <td>[]</td>\n",
              "      <td>[AI in education aids in personalized learning...</td>\n",
              "    </tr>\n",
              "    <tr>\n",
              "      <th>8</th>\n",
              "      <td>AI</td>\n",
              "      <td>[What is artificial intelligence?, How does ma...</td>\n",
              "      <td>[Artificial intelligence is a branch of comput...</td>\n",
              "    </tr>\n",
              "  </tbody>\n",
              "</table>\n",
              "</div>\n",
              "    <div class=\"colab-df-buttons\">\n",
              "\n",
              "  <div class=\"colab-df-container\">\n",
              "    <button class=\"colab-df-convert\" onclick=\"convertToInteractive('df-0c4abaea-e1c8-4af4-968f-4d98fcfc5f8c')\"\n",
              "            title=\"Convert this dataframe to an interactive table.\"\n",
              "            style=\"display:none;\">\n",
              "\n",
              "  <svg xmlns=\"http://www.w3.org/2000/svg\" height=\"24px\" viewBox=\"0 -960 960 960\">\n",
              "    <path d=\"M120-120v-720h720v720H120Zm60-500h600v-160H180v160Zm220 220h160v-160H400v160Zm0 220h160v-160H400v160ZM180-400h160v-160H180v160Zm440 0h160v-160H620v160ZM180-180h160v-160H180v160Zm440 0h160v-160H620v160Z\"/>\n",
              "  </svg>\n",
              "    </button>\n",
              "\n",
              "  <style>\n",
              "    .colab-df-container {\n",
              "      display:flex;\n",
              "      gap: 12px;\n",
              "    }\n",
              "\n",
              "    .colab-df-convert {\n",
              "      background-color: #E8F0FE;\n",
              "      border: none;\n",
              "      border-radius: 50%;\n",
              "      cursor: pointer;\n",
              "      display: none;\n",
              "      fill: #1967D2;\n",
              "      height: 32px;\n",
              "      padding: 0 0 0 0;\n",
              "      width: 32px;\n",
              "    }\n",
              "\n",
              "    .colab-df-convert:hover {\n",
              "      background-color: #E2EBFA;\n",
              "      box-shadow: 0px 1px 2px rgba(60, 64, 67, 0.3), 0px 1px 3px 1px rgba(60, 64, 67, 0.15);\n",
              "      fill: #174EA6;\n",
              "    }\n",
              "\n",
              "    .colab-df-buttons div {\n",
              "      margin-bottom: 4px;\n",
              "    }\n",
              "\n",
              "    [theme=dark] .colab-df-convert {\n",
              "      background-color: #3B4455;\n",
              "      fill: #D2E3FC;\n",
              "    }\n",
              "\n",
              "    [theme=dark] .colab-df-convert:hover {\n",
              "      background-color: #434B5C;\n",
              "      box-shadow: 0px 1px 3px 1px rgba(0, 0, 0, 0.15);\n",
              "      filter: drop-shadow(0px 1px 2px rgba(0, 0, 0, 0.3));\n",
              "      fill: #FFFFFF;\n",
              "    }\n",
              "  </style>\n",
              "\n",
              "    <script>\n",
              "      const buttonEl =\n",
              "        document.querySelector('#df-0c4abaea-e1c8-4af4-968f-4d98fcfc5f8c button.colab-df-convert');\n",
              "      buttonEl.style.display =\n",
              "        google.colab.kernel.accessAllowed ? 'block' : 'none';\n",
              "\n",
              "      async function convertToInteractive(key) {\n",
              "        const element = document.querySelector('#df-0c4abaea-e1c8-4af4-968f-4d98fcfc5f8c');\n",
              "        const dataTable =\n",
              "          await google.colab.kernel.invokeFunction('convertToInteractive',\n",
              "                                                    [key], {});\n",
              "        if (!dataTable) return;\n",
              "\n",
              "        const docLinkHtml = 'Like what you see? Visit the ' +\n",
              "          '<a target=\"_blank\" href=https://colab.research.google.com/notebooks/data_table.ipynb>data table notebook</a>'\n",
              "          + ' to learn more about interactive tables.';\n",
              "        element.innerHTML = '';\n",
              "        dataTable['output_type'] = 'display_data';\n",
              "        await google.colab.output.renderOutput(dataTable, element);\n",
              "        const docLink = document.createElement('div');\n",
              "        docLink.innerHTML = docLinkHtml;\n",
              "        element.appendChild(docLink);\n",
              "      }\n",
              "    </script>\n",
              "  </div>\n",
              "\n",
              "\n",
              "<div id=\"df-48ce1dbc-7fe0-4bbc-a0ea-138810745082\">\n",
              "  <button class=\"colab-df-quickchart\" onclick=\"quickchart('df-48ce1dbc-7fe0-4bbc-a0ea-138810745082')\"\n",
              "            title=\"Suggest charts\"\n",
              "            style=\"display:none;\">\n",
              "\n",
              "<svg xmlns=\"http://www.w3.org/2000/svg\" height=\"24px\"viewBox=\"0 0 24 24\"\n",
              "     width=\"24px\">\n",
              "    <g>\n",
              "        <path d=\"M19 3H5c-1.1 0-2 .9-2 2v14c0 1.1.9 2 2 2h14c1.1 0 2-.9 2-2V5c0-1.1-.9-2-2-2zM9 17H7v-7h2v7zm4 0h-2V7h2v10zm4 0h-2v-4h2v4z\"/>\n",
              "    </g>\n",
              "</svg>\n",
              "  </button>\n",
              "\n",
              "<style>\n",
              "  .colab-df-quickchart {\n",
              "      --bg-color: #E8F0FE;\n",
              "      --fill-color: #1967D2;\n",
              "      --hover-bg-color: #E2EBFA;\n",
              "      --hover-fill-color: #174EA6;\n",
              "      --disabled-fill-color: #AAA;\n",
              "      --disabled-bg-color: #DDD;\n",
              "  }\n",
              "\n",
              "  [theme=dark] .colab-df-quickchart {\n",
              "      --bg-color: #3B4455;\n",
              "      --fill-color: #D2E3FC;\n",
              "      --hover-bg-color: #434B5C;\n",
              "      --hover-fill-color: #FFFFFF;\n",
              "      --disabled-bg-color: #3B4455;\n",
              "      --disabled-fill-color: #666;\n",
              "  }\n",
              "\n",
              "  .colab-df-quickchart {\n",
              "    background-color: var(--bg-color);\n",
              "    border: none;\n",
              "    border-radius: 50%;\n",
              "    cursor: pointer;\n",
              "    display: none;\n",
              "    fill: var(--fill-color);\n",
              "    height: 32px;\n",
              "    padding: 0;\n",
              "    width: 32px;\n",
              "  }\n",
              "\n",
              "  .colab-df-quickchart:hover {\n",
              "    background-color: var(--hover-bg-color);\n",
              "    box-shadow: 0 1px 2px rgba(60, 64, 67, 0.3), 0 1px 3px 1px rgba(60, 64, 67, 0.15);\n",
              "    fill: var(--button-hover-fill-color);\n",
              "  }\n",
              "\n",
              "  .colab-df-quickchart-complete:disabled,\n",
              "  .colab-df-quickchart-complete:disabled:hover {\n",
              "    background-color: var(--disabled-bg-color);\n",
              "    fill: var(--disabled-fill-color);\n",
              "    box-shadow: none;\n",
              "  }\n",
              "\n",
              "  .colab-df-spinner {\n",
              "    border: 2px solid var(--fill-color);\n",
              "    border-color: transparent;\n",
              "    border-bottom-color: var(--fill-color);\n",
              "    animation:\n",
              "      spin 1s steps(1) infinite;\n",
              "  }\n",
              "\n",
              "  @keyframes spin {\n",
              "    0% {\n",
              "      border-color: transparent;\n",
              "      border-bottom-color: var(--fill-color);\n",
              "      border-left-color: var(--fill-color);\n",
              "    }\n",
              "    20% {\n",
              "      border-color: transparent;\n",
              "      border-left-color: var(--fill-color);\n",
              "      border-top-color: var(--fill-color);\n",
              "    }\n",
              "    30% {\n",
              "      border-color: transparent;\n",
              "      border-left-color: var(--fill-color);\n",
              "      border-top-color: var(--fill-color);\n",
              "      border-right-color: var(--fill-color);\n",
              "    }\n",
              "    40% {\n",
              "      border-color: transparent;\n",
              "      border-right-color: var(--fill-color);\n",
              "      border-top-color: var(--fill-color);\n",
              "    }\n",
              "    60% {\n",
              "      border-color: transparent;\n",
              "      border-right-color: var(--fill-color);\n",
              "    }\n",
              "    80% {\n",
              "      border-color: transparent;\n",
              "      border-right-color: var(--fill-color);\n",
              "      border-bottom-color: var(--fill-color);\n",
              "    }\n",
              "    90% {\n",
              "      border-color: transparent;\n",
              "      border-bottom-color: var(--fill-color);\n",
              "    }\n",
              "  }\n",
              "</style>\n",
              "\n",
              "  <script>\n",
              "    async function quickchart(key) {\n",
              "      const quickchartButtonEl =\n",
              "        document.querySelector('#' + key + ' button');\n",
              "      quickchartButtonEl.disabled = true;  // To prevent multiple clicks.\n",
              "      quickchartButtonEl.classList.add('colab-df-spinner');\n",
              "      try {\n",
              "        const charts = await google.colab.kernel.invokeFunction(\n",
              "            'suggestCharts', [key], {});\n",
              "      } catch (error) {\n",
              "        console.error('Error during call to suggestCharts:', error);\n",
              "      }\n",
              "      quickchartButtonEl.classList.remove('colab-df-spinner');\n",
              "      quickchartButtonEl.classList.add('colab-df-quickchart-complete');\n",
              "    }\n",
              "    (() => {\n",
              "      let quickchartButtonEl =\n",
              "        document.querySelector('#df-48ce1dbc-7fe0-4bbc-a0ea-138810745082 button');\n",
              "      quickchartButtonEl.style.display =\n",
              "        google.colab.kernel.accessAllowed ? 'block' : 'none';\n",
              "    })();\n",
              "  </script>\n",
              "</div>\n",
              "    </div>\n",
              "  </div>\n"
            ],
            "application/vnd.google.colaboratory.intrinsic+json": {
              "type": "dataframe",
              "variable_name": "df",
              "summary": "{\n  \"name\": \"df\",\n  \"rows\": 9,\n  \"fields\": [\n    {\n      \"column\": \"tag\",\n      \"properties\": {\n        \"dtype\": \"string\",\n        \"num_unique_values\": 9,\n        \"samples\": [\n          \"ai_education\",\n          \"goodbye\",\n          \"creative_ai\"\n        ],\n        \"semantic_type\": \"\",\n        \"description\": \"\"\n      }\n    },\n    {\n      \"column\": \"patterns\",\n      \"properties\": {\n        \"dtype\": \"object\",\n        \"semantic_type\": \"\",\n        \"description\": \"\"\n      }\n    },\n    {\n      \"column\": \"responses\",\n      \"properties\": {\n        \"dtype\": \"object\",\n        \"semantic_type\": \"\",\n        \"description\": \"\"\n      }\n    }\n  ]\n}"
            }
          },
          "metadata": {},
          "execution_count": 71
        }
      ],
      "source": [
        "#import the data\n",
        "with open('content.json') as content:\n",
        "  data = json.load(content)\n",
        "\n",
        "with open('content_mod.json', 'w') as file:\n",
        "    json.dump(intents_data['intents'], file, indent=4)\n",
        "\n",
        "df = pd.read_json(\"content_mod.json\")\n",
        "df"
      ]
    },
    {
      "cell_type": "markdown",
      "metadata": {
        "id": "aLF03wAwCrqC"
      },
      "source": [
        "# Q3\n"
      ]
    },
    {
      "cell_type": "markdown",
      "source": [
        "## Part A"
      ],
      "metadata": {
        "id": "Ng4PHhb-qigl"
      }
    },
    {
      "cell_type": "markdown",
      "source": [
        "**Can you provide a histogram visualization representing the distribution of question lengths in the dataset?**"
      ],
      "metadata": {
        "id": "ebYcSs-KqmhS"
      }
    },
    {
      "cell_type": "code",
      "source": [
        "X = []\n",
        "total_lens = []\n",
        "Y = []\n",
        "tags = df[\"tag\"]\n",
        "\n",
        "\n",
        "words = []\n",
        "\n",
        "for index , questions in enumerate(df[\"patterns\"]):\n",
        "  if questions is not float():\n",
        "    if len(questions)>0 :\n",
        "      lengths = []\n",
        "      indexes = []\n",
        "      for question in questions:\n",
        "          lengths.append(len(question))\n",
        "          total_lens.append(len(question))\n",
        "          indexes.append(tags[index])\n",
        "\n",
        "\n",
        "\n",
        "    X.append(lengths)\n",
        "    Y.append(indexes)\n",
        "\n",
        "\n",
        "plt.hist(total_lens)\n",
        "plt.xlabel(\"Lengths\")\n",
        "plt.ylabel(\"Frequency\")\n",
        "\n",
        "plt.show()"
      ],
      "metadata": {
        "id": "HFjDzdK-UDs-",
        "outputId": "f4fc5639-4437-49d6-baff-524c5d7de76a",
        "colab": {
          "base_uri": "https://localhost:8080/",
          "height": 449
        }
      },
      "execution_count": null,
      "outputs": [
        {
          "output_type": "display_data",
          "data": {
            "text/plain": [
              "<Figure size 640x480 with 1 Axes>"
            ],
            "image/png": "[encoded data removed]"
          },
          "metadata": {}
        }
      ]
    },
    {
      "cell_type": "markdown",
      "source": [
        "## Part B"
      ],
      "metadata": {
        "id": "7vkMaeLgqWYw"
      }
    },
    {
      "cell_type": "markdown",
      "metadata": {
        "id": "rH6obYAtCvnn"
      },
      "source": [
        "**Share a bar chart that displays the top 10 most frequent words in the questions.**"
      ]
    },
    {
      "cell_type": "code",
      "source": [
        "words = {}\n",
        "all_words = []\n",
        "for listed in df[\"patterns\"]:\n",
        "  for question in listed:\n",
        "        for i in question.split():\n",
        "          if '?' in i:\n",
        "            all_words.append(i[:-1])\n",
        "          else:\n",
        "            all_words.append(i)\n",
        "\n",
        "all_words = sorted(all_words)\n",
        "\n",
        "for word in all_words:\n",
        "  if word not in words.keys():\n",
        "    words[word] = 1\n",
        "  else:\n",
        "    words[word] += 1\n",
        "\n",
        "valsorted = sorted(words.values(),reverse=True)\n",
        "mostfreq  = valsorted[:10]\n",
        "freq_words = []\n",
        "for freq in mostfreq:\n",
        "  for key in words.keys():\n",
        "    if words[key] == freq:\n",
        "      freq_words.append(key)\n",
        "    if len(freq_words) > 10:\n",
        "      break\n",
        "\n",
        "\n",
        "plt.bar(freq_words[:10] , mostfreq)"
      ],
      "metadata": {
        "id": "m2rPyYofjUhQ",
        "outputId": "41604da9-6f4d-4cb7-ba09-5ca2835acc14",
        "colab": {
          "base_uri": "https://localhost:8080/",
          "height": 447
        }
      },
      "execution_count": null,
      "outputs": [
        {
          "output_type": "execute_result",
          "data": {
            "text/plain": [
              "<BarContainer object of 10 artists>"
            ]
          },
          "metadata": {},
          "execution_count": 107
        },
        {
          "output_type": "display_data",
          "data": {
            "text/plain": [
              "<Figure size 640x480 with 1 Axes>"
            ],
            "image/png": "[encoded data removed]"
          },
          "metadata": {}
        }
      ]
    },
    {
      "cell_type": "markdown",
      "metadata": {
        "id": "XxmTI3dUz0ca"
      },
      "source": [
        "#**Q4**\n",
        "**Clean the data and prepare it**"
      ]
    },
    {
      "cell_type": "code",
      "execution_count": null,
      "metadata": {
        "id": "zK9cg7LBz_ze",
        "outputId": "0b678798-2e2e-4f54-8820-dddbd29641be",
        "colab": {
          "base_uri": "https://localhost:8080/"
        }
      },
      "outputs": [
        {
          "output_type": "stream",
          "name": "stdout",
          "text": [
            "37 documents\n",
            "9 classes ['AI', 'ai_education', 'ai_risks', 'autonomous_vehicles', 'creative_ai', 'goodbye', 'greeting', 'personalized_healthcare', 'thanks']\n",
            "[(['Hi', 'there'], 'greeting'), (['How', 'are', 'you'], 'greeting'), (['Is', 'anyone', 'there', '?'], 'greeting'), (['Hey'], 'greeting'), (['Hola'], 'greeting'), (['Hello'], 'greeting'), (['Good', 'day'], 'greeting'), (['Bye'], 'goodbye'), (['See', 'you', 'later'], 'goodbye'), (['Goodbye'], 'goodbye'), (['Nice', 'chatting', 'to', 'you', ',', 'bye'], 'goodbye'), (['Till', 'next', 'time'], 'goodbye'), (['Thanks'], 'thanks'), (['Thank', 'you'], 'thanks'), (['That', \"'s\", 'helpful'], 'thanks'), (['Awesome', ',', 'thanks'], 'thanks'), (['Thanks', 'for', 'helping', 'me'], 'thanks'), (['What', 'is', 'artificial', 'intelligence', '?'], 'AI'), (['How', 'does', 'machine', 'learning', 'work', '?'], 'AI'), (['What', 'are', 'neural', 'networks', '?'], 'AI'), (['How', 'is', 'natural', 'language', 'processing', 'used', 'in', 'AI', '?'], 'AI'), (['What', 'is', 'the', 'difference', 'between', 'supervised', 'and', 'unsupervised', 'learning', '?'], 'AI'), (['Can', 'you', 'provide', 'examples', 'of', 'AI', 'applications', 'in', 'real', 'life', '?'], 'AI'), (['What', 'are', 'the', 'ethical', 'considerations', 'in', 'AI', 'development', '?'], 'AI'), (['How', 'does', 'reinforcement', 'learning', 'work', '?'], 'AI'), (['What', 'is', 'computer', 'vision', '?'], 'AI'), (['What', 'are', 'the', 'challenges', 'in', 'developing', 'strong', 'AI', '?'], 'AI'), (['How', 'is', 'AI', 'leveraged', 'in', 'the', 'field', 'of', 'agriculture', 'for', 'precision', 'farming', '?'], 'AI'), (['In', 'what', 'ways', 'does', 'AI', 'contribute', 'to', 'the', 'cybersecurity', 'landscape', '?'], 'AI'), (['Can', 'AI', 'assist', 'in', 'drug', 'discovery', 'and', 'development', 'in', 'the', 'pharmaceutical', 'industry', '?'], 'AI'), (['What', 'ethical', 'considerations', 'arise', 'with', 'the', 'use', 'of', 'AI', 'in', 'criminal', 'justice', 'systems', '?'], 'AI'), (['How', 'does', 'AI', 'impact', 'environmental', 'sustainability', 'efforts', '?'], 'AI'), (['In', 'what', 'ways', 'can', 'AI', 'be', 'applied', 'to', 'enhance', 'customer', 'experience', 'in', 'various', 'industries', '?'], 'AI'), (['What', 'challenges', 'and', 'opportunities', 'does', 'AI', 'present', 'in', 'the', 'realm', 'of', 'space', 'exploration', '?'], 'AI'), (['What', 'is', 'the', 'role', 'of', 'AI', 'in', 'augmenting', 'human', 'capabilities', 'in', 'the', 'workplace', '?'], 'AI'), (['Can', 'AI', 'be', 'used', 'to', 'address', 'societal', 'challenges', 'such', 'as', 'poverty', 'and', 'inequality', '?'], 'AI'), (['How', 'can', 'AI', 'contribute', 'to', 'language', 'translation', 'and', 'cross-cultural', 'communication', '?'], 'AI')]\n"
          ]
        }
      ],
      "source": [
        "# what's   your   name?   --> what is your name\n",
        "intents = new_intents\n",
        "words = []\n",
        "documents = []\n",
        "classes = []\n",
        "classes = set (df['tag'])\n",
        "\n",
        "ignore = [\"?\", \"!\"]\n",
        "\n",
        "for intent in intents[\"intents\"]:\n",
        "    for pattern in intent[\"patterns\"]:\n",
        "        w = nltk.word_tokenize(pattern)\n",
        "        if w not in ignore:\n",
        "          words.extend(w)\n",
        "          documents.append((w, intent[\"tag\"]))\n",
        "\n",
        "\n",
        "\n",
        "words = [lemmatizer.lemmatize(w.lower()) for w in words if w not in ignore]\n",
        "words = sorted(list(set(words)))\n",
        "classes = sorted(list(set(classes)))\n",
        "print(len(documents), \"documents\")\n",
        "print(len(classes), \"classes\", classes)\n",
        "print(documents)"
      ]
    },
    {
      "cell_type": "markdown",
      "metadata": {
        "id": "xQlI4xzk0VJe"
      },
      "source": [
        "# Q5"
      ]
    },
    {
      "cell_type": "markdown",
      "source": [
        "## Part A"
      ],
      "metadata": {
        "id": "RuEjGRlMrIkw"
      }
    },
    {
      "cell_type": "markdown",
      "source": [
        "**Tokenize the Data**"
      ],
      "metadata": {
        "id": "4K51lUC4rNNK"
      }
    },
    {
      "cell_type": "code",
      "source": [
        "tokenized = []\n",
        "out = [0] * len(classes)\n",
        "for doc in documents:\n",
        "    bag = []\n",
        "    pattern_words = doc[0]\n",
        "    pattern_words = [lemmatizer.lemmatize(word.lower()) for word in pattern_words]\n",
        "    for w in words:\n",
        "        bag.append(1) if w in pattern_words else bag.append(0)\n",
        "\n",
        "    output = list(out)\n",
        "    output[classes.index(doc[1])] = 1\n",
        "    tokenized.append([bag, output])\n",
        "\n",
        "\n",
        "print(tokenized)\n",
        "random.shuffle(tokenized)"
      ],
      "metadata": {
        "id": "tPggUWBKzd3i",
        "outputId": "dc378139-ec4d-4d0f-f5c2-227dd879120a",
        "colab": {
          "base_uri": "https://localhost:8080/"
        }
      },
      "execution_count": null,
      "outputs": [
        {
          "output_type": "stream",
          "name": "stdout",
          "text": [
            "[[[0, 0, 0, 0, 0, 0, 0, 0, 0, 0, 0, 0, 0, 0, 0, 0, 0, 0, 0, 0, 0, 0, 0, 0, 0, 0, 0, 0, 0, 0, 0, 0, 0, 0, 0, 0, 0, 0, 0, 0, 0, 0, 0, 0, 0, 0, 0, 0, 0, 0, 0, 0, 0, 0, 1, 0, 0, 0, 0, 0, 0, 0, 0, 0, 0, 0, 0, 0, 0, 0, 0, 0, 0, 0, 0, 0, 0, 0, 0, 0, 0, 0, 0, 0, 0, 0, 0, 0, 0, 0, 0, 0, 0, 0, 0, 0, 0, 0, 0, 0, 0, 0, 1, 0, 0, 0, 0, 0, 0, 0, 0, 0, 0, 0, 0, 0, 0, 0], [0, 0, 0, 0, 0, 0, 1, 0, 0]], [[0, 0, 0, 0, 0, 0, 0, 0, 0, 0, 1, 0, 0, 0, 0, 0, 0, 0, 0, 0, 0, 0, 0, 0, 0, 0, 0, 0, 0, 0, 0, 0, 0, 0, 0, 0, 0, 0, 0, 0, 0, 0, 0, 0, 0, 0, 0, 0, 0, 0, 0, 0, 0, 0, 0, 0, 1, 0, 0, 0, 0, 0, 0, 0, 0, 0, 0, 0, 0, 0, 0, 0, 0, 0, 0, 0, 0, 0, 0, 0, 0, 0, 0, 0, 0, 0, 0, 0, 0, 0, 0, 0, 0, 0, 0, 0, 0, 0, 0, 0, 0, 0, 0, 0, 0, 0, 0, 0, 0, 0, 0, 0, 0, 0, 0, 0, 0, 1], [0, 0, 0, 0, 0, 0, 1, 0, 0]], [[0, 0, 0, 0, 0, 0, 0, 1, 0, 0, 0, 0, 0, 0, 0, 0, 0, 0, 0, 0, 0, 0, 0, 0, 0, 0, 0, 0, 0, 0, 0, 0, 0, 0, 0, 0, 0, 0, 0, 0, 0, 0, 0, 0, 0, 0, 0, 0, 0, 0, 0, 0, 0, 0, 0, 0, 0, 0, 0, 0, 0, 0, 0, 1, 0, 0, 0, 0, 0, 0, 0, 0, 0, 0, 0, 0, 0, 0, 0, 0, 0, 0, 0, 0, 0, 0, 0, 0, 0, 0, 0, 0, 0, 0, 0, 0, 0, 0, 0, 0, 0, 0, 1, 0, 0, 0, 0, 0, 0, 0, 0, 0, 0, 0, 0, 0, 0, 0], [0, 0, 0, 0, 0, 0, 1, 0, 0]], [[0, 0, 0, 0, 0, 0, 0, 0, 0, 0, 0, 0, 0, 0, 0, 0, 0, 0, 0, 0, 0, 0, 0, 0, 0, 0, 0, 0, 0, 0, 0, 0, 0, 0, 0, 0, 0, 0, 0, 0, 0, 0, 0, 0, 0, 0, 0, 0, 0, 0, 0, 0, 0, 1, 0, 0, 0, 0, 0, 0, 0, 0, 0, 0, 0, 0, 0, 0, 0, 0, 0, 0, 0, 0, 0, 0, 0, 0, 0, 0, 0, 0, 0, 0, 0, 0, 0, 0, 0, 0, 0, 0, 0, 0, 0, 0, 0, 0, 0, 0, 0, 0, 0, 0, 0, 0, 0, 0, 0, 0, 0, 0, 0, 0, 0, 0, 0, 0], [0, 0, 0, 0, 0, 0, 1, 0, 0]], [[0, 0, 0, 0, 0, 0, 0, 0, 0, 0, 0, 0, 0, 0, 0, 0, 0, 0, 0, 0, 0, 0, 0, 0, 0, 0, 0, 0, 0, 0, 0, 0, 0, 0, 0, 0, 0, 0, 0, 0, 0, 0, 0, 0, 0, 0, 0, 0, 0, 0, 0, 0, 0, 0, 0, 1, 0, 0, 0, 0, 0, 0, 0, 0, 0, 0, 0, 0, 0, 0, 0, 0, 0, 0, 0, 0, 0, 0, 0, 0, 0, 0, 0, 0, 0, 0, 0, 0, 0, 0, 0, 0, 0, 0, 0, 0, 0, 0, 0, 0, 0, 0, 0, 0, 0, 0, 0, 0, 0, 0, 0, 0, 0, 0, 0, 0, 0, 0], [0, 0, 0, 0, 0, 0, 1, 0, 0]], [[0, 0, 0, 0, 0, 0, 0, 0, 0, 0, 0, 0, 0, 0, 0, 0, 0, 0, 0, 0, 0, 0, 0, 0, 0, 0, 0, 0, 0, 0, 0, 0, 0, 0, 0, 0, 0, 0, 0, 0, 0, 0, 0, 0, 0, 0, 0, 0, 0, 0, 1, 0, 0, 0, 0, 0, 0, 0, 0, 0, 0, 0, 0, 0, 0, 0, 0, 0, 0, 0, 0, 0, 0, 0, 0, 0, 0, 0, 0, 0, 0, 0, 0, 0, 0, 0, 0, 0, 0, 0, 0, 0, 0, 0, 0, 0, 0, 0, 0, 0, 0, 0, 0, 0, 0, 0, 0, 0, 0, 0, 0, 0, 0, 0, 0, 0, 0, 0], [0, 0, 0, 0, 0, 0, 1, 0, 0]], [[0, 0, 0, 0, 0, 0, 0, 0, 0, 0, 0, 0, 0, 0, 0, 0, 0, 0, 0, 0, 0, 0, 0, 0, 0, 0, 0, 0, 0, 0, 0, 1, 0, 0, 0, 0, 0, 0, 0, 0, 0, 0, 0, 0, 0, 0, 0, 0, 1, 0, 0, 0, 0, 0, 0, 0, 0, 0, 0, 0, 0, 0, 0, 0, 0, 0, 0, 0, 0, 0, 0, 0, 0, 0, 0, 0, 0, 0, 0, 0, 0, 0, 0, 0, 0, 0, 0, 0, 0, 0, 0, 0, 0, 0, 0, 0, 0, 0, 0, 0, 0, 0, 0, 0, 0, 0, 0, 0, 0, 0, 0, 0, 0, 0, 0, 0, 0, 0], [0, 0, 0, 0, 0, 0, 1, 0, 0]], [[0, 0, 0, 0, 0, 0, 0, 0, 0, 0, 0, 0, 0, 0, 0, 0, 0, 0, 1, 0, 0, 0, 0, 0, 0, 0, 0, 0, 0, 0, 0, 0, 0, 0, 0, 0, 0, 0, 0, 0, 0, 0, 0, 0, 0, 0, 0, 0, 0, 0, 0, 0, 0, 0, 0, 0, 0, 0, 0, 0, 0, 0, 0, 0, 0, 0, 0, 0, 0, 0, 0, 0, 0, 0, 0, 0, 0, 0, 0, 0, 0, 0, 0, 0, 0, 0, 0, 0, 0, 0, 0, 0, 0, 0, 0, 0, 0, 0, 0, 0, 0, 0, 0, 0, 0, 0, 0, 0, 0, 0, 0, 0, 0, 0, 0, 0, 0, 0], [0, 0, 0, 0, 0, 1, 0, 0, 0]], [[0, 0, 0, 0, 0, 0, 0, 0, 0, 0, 0, 0, 0, 0, 0, 0, 0, 0, 0, 0, 0, 0, 0, 0, 0, 0, 0, 0, 0, 0, 0, 0, 0, 0, 0, 0, 0, 0, 0, 0, 0, 0, 0, 0, 0, 0, 0, 0, 0, 0, 0, 0, 0, 0, 0, 0, 0, 0, 0, 0, 0, 0, 0, 0, 0, 0, 0, 1, 0, 0, 0, 0, 0, 0, 0, 0, 0, 0, 0, 0, 0, 0, 0, 0, 0, 0, 0, 0, 0, 0, 1, 0, 0, 0, 0, 0, 0, 0, 0, 0, 0, 0, 0, 0, 0, 0, 0, 0, 0, 0, 0, 0, 0, 0, 0, 0, 0, 1], [0, 0, 0, 0, 0, 1, 0, 0, 0]], [[0, 0, 0, 0, 0, 0, 0, 0, 0, 0, 0, 0, 0, 0, 0, 0, 0, 0, 0, 0, 0, 0, 0, 0, 0, 0, 0, 0, 0, 0, 0, 0, 0, 0, 0, 0, 0, 0, 0, 0, 0, 0, 0, 0, 0, 0, 0, 0, 0, 1, 0, 0, 0, 0, 0, 0, 0, 0, 0, 0, 0, 0, 0, 0, 0, 0, 0, 0, 0, 0, 0, 0, 0, 0, 0, 0, 0, 0, 0, 0, 0, 0, 0, 0, 0, 0, 0, 0, 0, 0, 0, 0, 0, 0, 0, 0, 0, 0, 0, 0, 0, 0, 0, 0, 0, 0, 0, 0, 0, 0, 0, 0, 0, 0, 0, 0, 0, 0], [0, 0, 0, 0, 0, 1, 0, 0, 0]], [[0, 1, 0, 0, 0, 0, 0, 0, 0, 0, 0, 0, 0, 0, 0, 0, 0, 0, 1, 0, 0, 0, 1, 0, 0, 0, 0, 0, 0, 0, 0, 0, 0, 0, 0, 0, 0, 0, 0, 0, 0, 0, 0, 0, 0, 0, 0, 0, 0, 0, 0, 0, 0, 0, 0, 0, 0, 0, 0, 0, 0, 0, 0, 0, 0, 0, 0, 0, 0, 0, 0, 0, 0, 0, 0, 0, 0, 1, 0, 0, 0, 0, 0, 0, 0, 0, 0, 0, 0, 0, 0, 0, 0, 0, 0, 0, 0, 0, 0, 0, 0, 0, 0, 0, 0, 1, 0, 0, 0, 0, 0, 0, 0, 0, 0, 0, 0, 1], [0, 0, 0, 0, 0, 1, 0, 0, 0]], [[0, 0, 0, 0, 0, 0, 0, 0, 0, 0, 0, 0, 0, 0, 0, 0, 0, 0, 0, 0, 0, 0, 0, 0, 0, 0, 0, 0, 0, 0, 0, 0, 0, 0, 0, 0, 0, 0, 0, 0, 0, 0, 0, 0, 0, 0, 0, 0, 0, 0, 0, 0, 0, 0, 0, 0, 0, 0, 0, 0, 0, 0, 0, 0, 0, 0, 0, 0, 0, 0, 0, 0, 0, 0, 0, 0, 1, 0, 0, 0, 0, 0, 0, 0, 0, 0, 0, 0, 0, 0, 0, 0, 0, 0, 0, 0, 0, 0, 0, 0, 0, 0, 0, 1, 1, 0, 0, 0, 0, 0, 0, 0, 0, 0, 0, 0, 0, 0], [0, 0, 0, 0, 0, 1, 0, 0, 0]], [[0, 0, 0, 0, 0, 0, 0, 0, 0, 0, 0, 0, 0, 0, 0, 0, 0, 0, 0, 0, 0, 0, 0, 0, 0, 0, 0, 0, 0, 0, 0, 0, 0, 0, 0, 0, 0, 0, 0, 0, 0, 0, 0, 0, 0, 0, 0, 0, 0, 0, 0, 0, 0, 0, 0, 0, 0, 0, 0, 0, 0, 0, 0, 0, 0, 0, 0, 0, 0, 0, 0, 0, 0, 0, 0, 0, 0, 0, 0, 0, 0, 0, 0, 0, 0, 0, 0, 0, 0, 0, 0, 0, 0, 0, 0, 0, 0, 0, 0, 1, 0, 0, 0, 0, 0, 0, 0, 0, 0, 0, 0, 0, 0, 0, 0, 0, 0, 0], [0, 0, 0, 0, 0, 0, 0, 0, 1]], [[0, 0, 0, 0, 0, 0, 0, 0, 0, 0, 0, 0, 0, 0, 0, 0, 0, 0, 0, 0, 0, 0, 0, 0, 0, 0, 0, 0, 0, 0, 0, 0, 0, 0, 0, 0, 0, 0, 0, 0, 0, 0, 0, 0, 0, 0, 0, 0, 0, 0, 0, 0, 0, 0, 0, 0, 0, 0, 0, 0, 0, 0, 0, 0, 0, 0, 0, 0, 0, 0, 0, 0, 0, 0, 0, 0, 0, 0, 0, 0, 0, 0, 0, 0, 0, 0, 0, 0, 0, 0, 0, 0, 0, 0, 0, 0, 0, 0, 1, 0, 0, 0, 0, 0, 0, 0, 0, 0, 0, 0, 0, 0, 0, 0, 0, 0, 0, 1], [0, 0, 0, 0, 0, 0, 0, 0, 1]], [[1, 0, 0, 0, 0, 0, 0, 0, 0, 0, 0, 0, 0, 0, 0, 0, 0, 0, 0, 0, 0, 0, 0, 0, 0, 0, 0, 0, 0, 0, 0, 0, 0, 0, 0, 0, 0, 0, 0, 0, 0, 0, 0, 0, 0, 0, 0, 0, 0, 0, 0, 1, 0, 0, 0, 0, 0, 0, 0, 0, 0, 0, 0, 0, 0, 0, 0, 0, 0, 0, 0, 0, 0, 0, 0, 0, 0, 0, 0, 0, 0, 0, 0, 0, 0, 0, 0, 0, 0, 0, 0, 0, 0, 0, 0, 0, 0, 0, 0, 0, 1, 0, 0, 0, 0, 0, 0, 0, 0, 0, 0, 0, 0, 0, 0, 0, 0, 0], [0, 0, 0, 0, 0, 0, 0, 0, 1]], [[0, 1, 0, 0, 0, 0, 0, 0, 0, 0, 0, 0, 0, 0, 0, 1, 0, 0, 0, 0, 0, 0, 0, 0, 0, 0, 0, 0, 0, 0, 0, 0, 0, 0, 0, 0, 0, 0, 0, 0, 0, 0, 0, 0, 0, 0, 0, 0, 0, 0, 0, 0, 0, 0, 0, 0, 0, 0, 0, 0, 0, 0, 0, 0, 0, 0, 0, 0, 0, 0, 0, 0, 0, 0, 0, 0, 0, 0, 0, 0, 0, 0, 0, 0, 0, 0, 0, 0, 0, 0, 0, 0, 0, 0, 0, 0, 0, 0, 0, 1, 0, 0, 0, 0, 0, 0, 0, 0, 0, 0, 0, 0, 0, 0, 0, 0, 0, 0], [0, 0, 0, 0, 0, 0, 0, 0, 1]], [[0, 0, 0, 0, 0, 0, 0, 0, 0, 0, 0, 0, 0, 0, 0, 0, 0, 0, 0, 0, 0, 0, 0, 0, 0, 0, 0, 0, 0, 0, 0, 0, 0, 0, 0, 0, 0, 0, 0, 0, 0, 0, 0, 0, 0, 0, 0, 1, 0, 0, 0, 0, 1, 0, 0, 0, 0, 0, 0, 0, 0, 0, 0, 0, 0, 0, 0, 0, 0, 0, 0, 0, 1, 0, 0, 0, 0, 0, 0, 0, 0, 0, 0, 0, 0, 0, 0, 0, 0, 0, 0, 0, 0, 0, 0, 0, 0, 0, 0, 1, 0, 0, 0, 0, 0, 0, 0, 0, 0, 0, 0, 0, 0, 0, 0, 0, 0, 0], [0, 0, 0, 0, 0, 0, 0, 0, 1]], [[0, 0, 0, 0, 0, 0, 0, 0, 0, 0, 0, 0, 1, 0, 0, 0, 0, 0, 0, 0, 0, 0, 0, 0, 0, 0, 0, 0, 0, 0, 0, 0, 0, 0, 0, 0, 0, 0, 0, 0, 0, 0, 0, 0, 0, 0, 0, 0, 0, 0, 0, 0, 0, 0, 0, 0, 0, 0, 0, 0, 0, 0, 1, 1, 0, 0, 0, 0, 0, 0, 0, 0, 0, 0, 0, 0, 0, 0, 0, 0, 0, 0, 0, 0, 0, 0, 0, 0, 0, 0, 0, 0, 0, 0, 0, 0, 0, 0, 0, 0, 0, 0, 0, 0, 0, 0, 0, 0, 0, 0, 0, 0, 0, 1, 0, 0, 0, 0], [1, 0, 0, 0, 0, 0, 0, 0, 0]], [[0, 0, 0, 0, 0, 0, 0, 0, 0, 0, 0, 0, 0, 0, 0, 0, 0, 0, 0, 0, 0, 0, 0, 0, 0, 0, 0, 0, 0, 0, 0, 0, 0, 0, 0, 0, 1, 0, 0, 0, 0, 0, 0, 0, 0, 0, 0, 0, 0, 0, 0, 0, 0, 0, 0, 0, 1, 0, 0, 0, 0, 0, 0, 0, 0, 0, 0, 0, 1, 0, 0, 1, 0, 0, 0, 0, 0, 0, 0, 0, 0, 0, 0, 0, 0, 0, 0, 0, 0, 0, 0, 0, 0, 0, 0, 0, 0, 0, 0, 0, 0, 0, 0, 0, 0, 0, 0, 0, 0, 0, 0, 0, 0, 0, 0, 1, 0, 0], [1, 0, 0, 0, 0, 0, 0, 0, 0]], [[0, 0, 0, 0, 0, 0, 0, 0, 0, 0, 1, 0, 0, 0, 0, 0, 0, 0, 0, 0, 0, 0, 0, 0, 0, 0, 0, 0, 0, 0, 0, 0, 0, 0, 0, 0, 0, 0, 0, 0, 0, 0, 0, 0, 0, 0, 0, 0, 0, 0, 0, 0, 0, 0, 0, 0, 0, 0, 0, 0, 0, 0, 0, 0, 0, 0, 0, 0, 0, 0, 0, 0, 0, 0, 1, 1, 0, 0, 0, 0, 0, 0, 0, 0, 0, 0, 0, 0, 0, 0, 0, 0, 0, 0, 0, 0, 0, 0, 0, 0, 0, 0, 0, 0, 0, 0, 0, 0, 0, 0, 0, 0, 0, 1, 0, 0, 0, 0], [1, 0, 0, 0, 0, 0, 0, 0, 0]], [[0, 0, 0, 0, 0, 1, 0, 0, 0, 0, 0, 0, 0, 0, 0, 0, 0, 0, 0, 0, 0, 0, 0, 0, 0, 0, 0, 0, 0, 0, 0, 0, 0, 0, 0, 0, 0, 0, 0, 0, 0, 0, 0, 0, 0, 0, 0, 0, 0, 0, 0, 0, 0, 0, 0, 0, 1, 0, 0, 1, 0, 0, 0, 1, 0, 0, 1, 0, 0, 0, 0, 0, 0, 1, 0, 0, 0, 0, 0, 0, 0, 0, 0, 0, 1, 0, 0, 0, 0, 0, 0, 0, 0, 0, 0, 0, 0, 0, 0, 0, 0, 0, 0, 0, 0, 0, 0, 0, 0, 1, 0, 0, 0, 0, 0, 0, 0, 0], [1, 0, 0, 0, 0, 0, 0, 0, 0]], [[0, 0, 0, 0, 0, 0, 1, 0, 0, 0, 0, 0, 0, 0, 0, 0, 0, 1, 0, 0, 0, 0, 0, 0, 0, 0, 0, 0, 0, 0, 0, 0, 0, 0, 1, 0, 0, 0, 0, 0, 0, 0, 0, 0, 0, 0, 0, 0, 0, 0, 0, 0, 0, 0, 0, 0, 0, 0, 0, 0, 0, 0, 0, 1, 0, 0, 0, 0, 1, 0, 0, 0, 0, 0, 0, 0, 0, 0, 0, 0, 0, 0, 0, 0, 0, 0, 0, 0, 0, 0, 0, 0, 0, 0, 0, 1, 0, 0, 0, 0, 0, 1, 0, 0, 0, 0, 0, 1, 0, 0, 0, 0, 0, 1, 0, 0, 0, 0], [1, 0, 0, 0, 0, 0, 0, 0, 0]], [[0, 0, 0, 0, 0, 1, 0, 0, 1, 0, 0, 0, 0, 0, 0, 0, 0, 0, 0, 1, 0, 0, 0, 0, 0, 0, 0, 0, 0, 0, 0, 0, 0, 0, 0, 0, 0, 0, 0, 0, 0, 0, 1, 0, 0, 0, 0, 0, 0, 0, 0, 0, 0, 0, 0, 0, 0, 0, 0, 1, 0, 0, 0, 0, 0, 0, 0, 0, 0, 0, 1, 0, 0, 0, 0, 0, 0, 0, 1, 0, 0, 0, 0, 0, 0, 1, 1, 0, 0, 0, 0, 0, 0, 0, 0, 0, 0, 0, 0, 0, 0, 0, 0, 0, 0, 0, 0, 0, 0, 0, 0, 0, 0, 0, 0, 0, 0, 1], [1, 0, 0, 0, 0, 0, 0, 0, 0]], [[0, 0, 0, 0, 0, 1, 0, 0, 0, 0, 1, 0, 0, 0, 0, 0, 0, 0, 0, 0, 0, 0, 0, 0, 0, 1, 0, 0, 0, 0, 0, 0, 0, 1, 0, 0, 0, 0, 0, 0, 0, 1, 0, 0, 0, 0, 0, 0, 0, 0, 0, 0, 0, 0, 0, 0, 0, 0, 0, 1, 0, 0, 0, 0, 0, 0, 0, 0, 0, 0, 0, 0, 0, 0, 0, 0, 0, 0, 0, 0, 0, 0, 0, 0, 0, 0, 0, 0, 0, 0, 0, 0, 0, 0, 0, 0, 0, 0, 0, 0, 0, 1, 0, 0, 0, 0, 0, 0, 0, 0, 0, 0, 0, 1, 0, 0, 0, 0], [1, 0, 0, 0, 0, 0, 0, 0, 0]], [[0, 0, 0, 0, 0, 0, 0, 0, 0, 0, 0, 0, 0, 0, 0, 0, 0, 0, 0, 0, 0, 0, 0, 0, 0, 0, 0, 0, 0, 0, 0, 0, 0, 0, 0, 0, 1, 0, 0, 0, 0, 0, 0, 0, 0, 0, 0, 0, 0, 0, 0, 0, 0, 0, 0, 0, 1, 0, 0, 0, 0, 0, 0, 0, 0, 0, 0, 0, 1, 0, 0, 0, 0, 0, 0, 0, 0, 0, 0, 0, 0, 0, 0, 0, 0, 0, 0, 0, 1, 0, 0, 0, 0, 0, 0, 0, 0, 0, 0, 0, 0, 0, 0, 0, 0, 0, 0, 0, 0, 0, 0, 0, 0, 0, 0, 1, 0, 0], [1, 0, 0, 0, 0, 0, 0, 0, 0]], [[0, 0, 0, 0, 0, 0, 0, 0, 0, 0, 0, 0, 0, 0, 0, 0, 0, 0, 0, 0, 0, 0, 0, 0, 1, 0, 0, 0, 0, 0, 0, 0, 0, 0, 0, 0, 0, 0, 0, 0, 0, 0, 0, 0, 0, 0, 0, 0, 0, 0, 0, 0, 0, 0, 0, 0, 0, 0, 0, 0, 0, 0, 0, 1, 0, 0, 0, 0, 0, 0, 0, 0, 0, 0, 0, 0, 0, 0, 0, 0, 0, 0, 0, 0, 0, 0, 0, 0, 0, 0, 0, 0, 0, 0, 0, 0, 0, 0, 0, 0, 0, 0, 0, 0, 0, 0, 0, 0, 0, 0, 0, 1, 0, 1, 0, 0, 0, 0], [1, 0, 0, 0, 0, 0, 0, 0, 0]], [[0, 0, 0, 0, 0, 1, 0, 0, 0, 0, 1, 0, 0, 0, 0, 0, 0, 0, 0, 0, 0, 1, 0, 0, 0, 0, 0, 0, 0, 0, 0, 0, 1, 0, 0, 0, 0, 0, 0, 0, 0, 0, 0, 0, 0, 0, 0, 0, 0, 0, 0, 0, 0, 0, 0, 0, 0, 0, 0, 1, 0, 0, 0, 0, 0, 0, 0, 0, 0, 0, 0, 0, 0, 0, 0, 0, 0, 0, 0, 0, 0, 0, 0, 0, 0, 0, 0, 0, 0, 0, 0, 0, 0, 1, 0, 0, 0, 0, 0, 0, 0, 1, 0, 0, 0, 0, 0, 0, 0, 0, 0, 0, 0, 1, 0, 0, 0, 0], [1, 0, 0, 0, 0, 0, 0, 0, 0]], [[0, 0, 0, 0, 1, 1, 0, 0, 0, 0, 0, 0, 0, 0, 0, 0, 0, 0, 0, 0, 0, 0, 0, 0, 0, 0, 0, 0, 0, 0, 0, 0, 0, 0, 0, 0, 0, 0, 0, 0, 0, 0, 0, 0, 0, 1, 1, 1, 0, 0, 0, 0, 0, 0, 0, 0, 1, 0, 0, 1, 0, 0, 0, 1, 0, 0, 0, 0, 0, 1, 0, 0, 0, 0, 0, 0, 0, 0, 1, 0, 0, 0, 1, 0, 0, 0, 0, 0, 0, 0, 0, 0, 0, 0, 0, 0, 0, 0, 0, 0, 0, 1, 0, 0, 0, 0, 0, 0, 0, 0, 0, 0, 0, 0, 0, 0, 0, 0], [1, 0, 0, 0, 0, 0, 0, 0, 0]], [[0, 0, 0, 0, 0, 1, 0, 0, 0, 0, 0, 0, 0, 0, 0, 0, 0, 0, 0, 0, 0, 0, 0, 0, 0, 0, 1, 0, 0, 0, 1, 0, 0, 0, 0, 0, 1, 0, 0, 0, 0, 0, 0, 0, 0, 0, 0, 0, 0, 0, 0, 0, 0, 0, 0, 0, 0, 0, 0, 1, 0, 0, 0, 0, 0, 1, 0, 0, 0, 0, 0, 0, 0, 0, 0, 0, 0, 0, 0, 0, 0, 0, 0, 0, 0, 0, 0, 0, 0, 0, 0, 0, 0, 0, 0, 0, 0, 0, 0, 0, 0, 1, 0, 0, 0, 1, 0, 0, 0, 0, 0, 0, 1, 1, 0, 0, 0, 0], [1, 0, 0, 0, 0, 0, 0, 0, 0]], [[0, 0, 0, 0, 0, 1, 1, 0, 0, 0, 0, 0, 0, 1, 0, 0, 0, 0, 0, 1, 0, 0, 0, 0, 0, 0, 0, 0, 0, 0, 0, 0, 0, 1, 0, 1, 0, 1, 0, 0, 0, 0, 0, 0, 0, 0, 0, 0, 0, 0, 0, 0, 0, 0, 0, 0, 0, 0, 0, 1, 1, 0, 0, 0, 0, 0, 0, 0, 0, 0, 0, 0, 0, 0, 0, 0, 0, 0, 0, 0, 1, 0, 0, 0, 0, 0, 0, 0, 0, 0, 0, 0, 0, 0, 0, 0, 0, 0, 0, 0, 0, 1, 0, 0, 0, 0, 0, 0, 0, 0, 0, 0, 0, 0, 0, 0, 0, 0], [1, 0, 0, 0, 0, 0, 0, 0, 0]], [[0, 0, 0, 0, 0, 1, 0, 0, 0, 0, 0, 1, 0, 0, 0, 0, 0, 0, 0, 0, 0, 0, 0, 0, 0, 1, 0, 1, 0, 0, 0, 0, 0, 0, 0, 0, 0, 0, 0, 0, 0, 1, 0, 0, 0, 0, 0, 0, 0, 0, 0, 0, 0, 0, 0, 0, 0, 0, 0, 1, 0, 0, 0, 0, 1, 0, 0, 0, 0, 0, 0, 0, 0, 0, 0, 0, 0, 0, 1, 0, 0, 0, 0, 0, 0, 0, 0, 0, 0, 0, 0, 0, 0, 0, 0, 0, 0, 1, 0, 0, 0, 1, 0, 0, 0, 0, 0, 0, 1, 0, 0, 0, 0, 1, 1, 0, 0, 0], [1, 0, 0, 0, 0, 0, 0, 0, 0]], [[0, 0, 0, 0, 0, 1, 0, 0, 0, 0, 0, 0, 0, 0, 0, 0, 0, 0, 0, 0, 0, 0, 0, 0, 0, 0, 0, 0, 0, 0, 0, 0, 0, 0, 0, 0, 1, 0, 1, 0, 1, 0, 0, 0, 0, 0, 0, 0, 0, 0, 0, 0, 0, 0, 0, 0, 1, 0, 1, 0, 0, 0, 0, 0, 0, 0, 0, 0, 0, 0, 0, 0, 0, 0, 0, 0, 0, 0, 0, 0, 0, 0, 0, 0, 0, 0, 0, 0, 0, 0, 0, 0, 0, 0, 0, 0, 1, 0, 0, 0, 0, 0, 0, 0, 0, 0, 0, 0, 0, 0, 0, 0, 0, 0, 0, 0, 0, 0], [1, 0, 0, 0, 0, 0, 0, 0, 0]], [[0, 0, 0, 0, 0, 1, 0, 0, 0, 1, 0, 0, 0, 0, 0, 0, 1, 0, 0, 1, 0, 0, 0, 0, 0, 0, 0, 0, 0, 1, 0, 0, 0, 0, 0, 0, 0, 0, 0, 1, 0, 0, 0, 1, 0, 0, 0, 0, 0, 0, 0, 0, 0, 0, 0, 0, 0, 0, 0, 1, 1, 0, 0, 0, 0, 0, 0, 0, 0, 0, 0, 0, 0, 0, 0, 0, 0, 0, 0, 0, 0, 0, 0, 0, 0, 0, 0, 0, 0, 0, 0, 0, 0, 0, 0, 0, 0, 0, 0, 0, 0, 0, 0, 0, 0, 1, 0, 0, 0, 0, 1, 0, 1, 1, 0, 0, 0, 0], [1, 0, 0, 0, 0, 0, 0, 0, 0]], [[0, 0, 0, 0, 0, 1, 1, 0, 0, 0, 0, 0, 0, 0, 0, 0, 0, 0, 0, 0, 0, 1, 0, 0, 0, 0, 0, 0, 0, 0, 0, 0, 0, 0, 0, 0, 1, 0, 0, 0, 0, 0, 0, 0, 1, 0, 0, 0, 0, 0, 0, 0, 0, 0, 0, 0, 0, 0, 0, 1, 0, 0, 0, 0, 0, 0, 0, 0, 0, 0, 0, 0, 0, 0, 0, 0, 0, 0, 1, 1, 0, 0, 0, 1, 0, 0, 0, 1, 0, 0, 0, 0, 1, 0, 0, 0, 0, 0, 0, 0, 0, 1, 0, 0, 0, 0, 0, 0, 0, 0, 0, 0, 0, 1, 0, 0, 0, 0], [1, 0, 0, 0, 0, 0, 0, 0, 0]], [[0, 0, 0, 0, 0, 1, 0, 0, 0, 0, 0, 0, 0, 0, 1, 0, 0, 0, 0, 0, 1, 0, 0, 0, 0, 0, 0, 0, 0, 0, 0, 0, 0, 0, 0, 0, 0, 0, 0, 0, 0, 0, 0, 0, 0, 0, 0, 0, 0, 0, 0, 0, 0, 0, 0, 0, 0, 1, 0, 1, 0, 0, 0, 1, 0, 0, 0, 0, 0, 0, 0, 0, 0, 0, 0, 0, 0, 0, 1, 0, 0, 0, 0, 0, 0, 0, 0, 0, 0, 1, 0, 0, 0, 0, 0, 0, 0, 0, 0, 0, 0, 1, 0, 0, 0, 0, 0, 0, 0, 0, 0, 0, 0, 1, 0, 0, 1, 0], [1, 0, 0, 0, 0, 0, 0, 0, 0]], [[0, 0, 1, 1, 0, 1, 1, 0, 0, 0, 0, 0, 0, 0, 0, 0, 1, 0, 0, 1, 0, 1, 0, 0, 0, 0, 0, 0, 0, 0, 0, 0, 0, 0, 0, 0, 0, 0, 0, 0, 0, 0, 0, 0, 0, 0, 0, 0, 0, 0, 0, 0, 0, 0, 0, 0, 0, 0, 0, 0, 0, 1, 0, 0, 0, 0, 0, 0, 0, 0, 0, 0, 0, 0, 0, 0, 0, 0, 0, 0, 0, 1, 0, 0, 0, 0, 0, 0, 0, 0, 0, 1, 0, 0, 1, 0, 0, 0, 0, 0, 0, 0, 0, 0, 0, 1, 0, 0, 0, 1, 0, 0, 0, 0, 0, 0, 0, 0], [1, 0, 0, 0, 0, 0, 0, 0, 0]], [[0, 0, 0, 0, 0, 1, 1, 0, 0, 0, 0, 0, 0, 0, 0, 0, 0, 0, 0, 1, 0, 0, 0, 1, 0, 0, 1, 0, 1, 0, 0, 0, 0, 0, 0, 0, 0, 0, 0, 0, 0, 0, 0, 0, 0, 0, 0, 0, 0, 0, 0, 0, 0, 0, 0, 0, 1, 0, 0, 0, 0, 0, 0, 0, 0, 0, 1, 0, 0, 0, 0, 0, 0, 0, 0, 0, 0, 0, 0, 0, 0, 0, 0, 0, 0, 0, 0, 0, 0, 0, 0, 0, 0, 0, 0, 0, 0, 0, 0, 0, 0, 0, 0, 0, 0, 1, 1, 0, 0, 0, 0, 0, 0, 0, 0, 0, 0, 0], [1, 0, 0, 0, 0, 0, 0, 0, 0]]]\n"
          ]
        }
      ]
    },
    {
      "cell_type": "code",
      "source": [
        "\n",
        "y = [item[0] for item in tokenized]\n",
        "y = [item[1] for item in tokenized]\n",
        "x = np.array(x)\n",
        "y = np.array(y)\n"
      ],
      "metadata": {
        "id": "unDTL57AzeRa"
      },
      "execution_count": null,
      "outputs": []
    },
    {
      "cell_type": "code",
      "source": [
        "y[0]"
      ],
      "metadata": {
        "id": "Fj7TTVU-2V3I",
        "outputId": "e8a62a32-c137-48bc-c3a4-25c9d23f69d1",
        "colab": {
          "base_uri": "https://localhost:8080/"
        }
      },
      "execution_count": null,
      "outputs": [
        {
          "output_type": "execute_result",
          "data": {
            "text/plain": [
              "array([1, 0, 0, 0, 0, 0, 0, 0, 0])"
            ]
          },
          "metadata": {},
          "execution_count": 141
        }
      ]
    },
    {
      "cell_type": "code",
      "source": [
        "\n",
        "\n"
      ],
      "metadata": {
        "id": "XDzs4eW72Vuw"
      },
      "execution_count": null,
      "outputs": []
    },
    {
      "cell_type": "code",
      "execution_count": null,
      "metadata": {
        "id": "o_g9D-s00gRj",
        "outputId": "75aef7d5-76b4-45dd-d06a-614b44b55ef5",
        "colab": {
          "base_uri": "https://localhost:8080/",
          "height": 773
        }
      },
      "outputs": [
        {
          "output_type": "stream",
          "name": "stdout",
          "text": [
            "Epoch 1/200\n"
          ]
        },
        {
          "output_type": "error",
          "ename": "ValueError",
          "evalue": "in user code:\n\n    File \"/usr/local/lib/python3.10/dist-packages/keras/src/engine/training.py\", line 1401, in train_function  *\n        return step_function(self, iterator)\n    File \"/usr/local/lib/python3.10/dist-packages/keras/src/engine/training.py\", line 1384, in step_function  **\n        outputs = model.distribute_strategy.run(run_step, args=(data,))\n    File \"/usr/local/lib/python3.10/dist-packages/keras/src/engine/training.py\", line 1373, in run_step  **\n        outputs = model.train_step(data)\n    File \"/usr/local/lib/python3.10/dist-packages/keras/src/engine/training.py\", line 1150, in train_step\n        y_pred = self(x, training=True)\n    File \"/usr/local/lib/python3.10/dist-packages/keras/src/utils/traceback_utils.py\", line 70, in error_handler\n        raise e.with_traceback(filtered_tb) from None\n    File \"/usr/local/lib/python3.10/dist-packages/keras/src/engine/input_spec.py\", line 235, in assert_input_compatibility\n        raise ValueError(\n\n    ValueError: Exception encountered when calling layer 'sequential_6' (type Sequential).\n    \n    Input 0 of layer \"lstm_5\" is incompatible with the layer: expected ndim=3, found ndim=2. Full shape received: (None, 118)\n    \n    Call arguments received by layer 'sequential_6' (type Sequential):\n      • inputs=tf.Tensor(shape=(None, 118), dtype=int64)\n      • training=True\n      • mask=None\n",
          "traceback": [
            "\u001b[0;31m---------------------------------------------------------------------------\u001b[0m",
            "\u001b[0;31mValueError\u001b[0m                                Traceback (most recent call last)",
            "\u001b[0;32m<ipython-input-155-fd0dbe954e09>\u001b[0m in \u001b[0;36m<cell line: 4>\u001b[0;34m()\u001b[0m\n\u001b[1;32m      2\u001b[0m \u001b[0mmodel\u001b[0m\u001b[0;34m.\u001b[0m\u001b[0mcompile\u001b[0m\u001b[0;34m(\u001b[0m\u001b[0mloss\u001b[0m\u001b[0;34m=\u001b[0m\u001b[0;34m\"categorical_crossentropy\"\u001b[0m\u001b[0;34m,\u001b[0m \u001b[0moptimizer\u001b[0m\u001b[0;34m=\u001b[0m\u001b[0msgd\u001b[0m\u001b[0;34m,\u001b[0m \u001b[0mmetrics\u001b[0m\u001b[0;34m=\u001b[0m\u001b[0;34m[\u001b[0m\u001b[0;34m\"accuracy\"\u001b[0m\u001b[0;34m]\u001b[0m\u001b[0;34m)\u001b[0m\u001b[0;34m\u001b[0m\u001b[0;34m\u001b[0m\u001b[0m\n\u001b[1;32m      3\u001b[0m \u001b[0;34m\u001b[0m\u001b[0m\n\u001b[0;32m----> 4\u001b[0;31m \u001b[0mlog\u001b[0m \u001b[0;34m=\u001b[0m \u001b[0mmodel\u001b[0m\u001b[0;34m.\u001b[0m\u001b[0mfit\u001b[0m\u001b[0;34m(\u001b[0m\u001b[0mnp\u001b[0m\u001b[0;34m.\u001b[0m\u001b[0marray\u001b[0m\u001b[0;34m(\u001b[0m\u001b[0mx\u001b[0m\u001b[0;34m)\u001b[0m\u001b[0;34m,\u001b[0m \u001b[0mnp\u001b[0m\u001b[0;34m.\u001b[0m\u001b[0marray\u001b[0m\u001b[0;34m(\u001b[0m\u001b[0my\u001b[0m\u001b[0;34m)\u001b[0m\u001b[0;34m,\u001b[0m \u001b[0mepochs\u001b[0m\u001b[0;34m=\u001b[0m\u001b[0;36m200\u001b[0m\u001b[0;34m,\u001b[0m \u001b[0mbatch_size\u001b[0m\u001b[0;34m=\u001b[0m\u001b[0;36m5\u001b[0m\u001b[0;34m,\u001b[0m \u001b[0mverbose\u001b[0m\u001b[0;34m=\u001b[0m\u001b[0;36m1\u001b[0m\u001b[0;34m)\u001b[0m\u001b[0;34m\u001b[0m\u001b[0;34m\u001b[0m\u001b[0m\n\u001b[0m\u001b[1;32m      5\u001b[0m \u001b[0mmodel\u001b[0m\u001b[0;34m.\u001b[0m\u001b[0msave\u001b[0m\u001b[0;34m(\u001b[0m\u001b[0;34m\"chatcraft.h5\"\u001b[0m\u001b[0;34m,\u001b[0m \u001b[0mlog\u001b[0m\u001b[0;34m)\u001b[0m\u001b[0;34m\u001b[0m\u001b[0;34m\u001b[0m\u001b[0m\n",
            "\u001b[0;32m/usr/local/lib/python3.10/dist-packages/keras/src/utils/traceback_utils.py\u001b[0m in \u001b[0;36merror_handler\u001b[0;34m(*args, **kwargs)\u001b[0m\n\u001b[1;32m     68\u001b[0m             \u001b[0;31m# To get the full stack trace, call:\u001b[0m\u001b[0;34m\u001b[0m\u001b[0;34m\u001b[0m\u001b[0m\n\u001b[1;32m     69\u001b[0m             \u001b[0;31m# `tf.debugging.disable_traceback_filtering()`\u001b[0m\u001b[0;34m\u001b[0m\u001b[0;34m\u001b[0m\u001b[0m\n\u001b[0;32m---> 70\u001b[0;31m             \u001b[0;32mraise\u001b[0m \u001b[0me\u001b[0m\u001b[0;34m.\u001b[0m\u001b[0mwith_traceback\u001b[0m\u001b[0;34m(\u001b[0m\u001b[0mfiltered_tb\u001b[0m\u001b[0;34m)\u001b[0m \u001b[0;32mfrom\u001b[0m \u001b[0;32mNone\u001b[0m\u001b[0;34m\u001b[0m\u001b[0;34m\u001b[0m\u001b[0m\n\u001b[0m\u001b[1;32m     71\u001b[0m         \u001b[0;32mfinally\u001b[0m\u001b[0;34m:\u001b[0m\u001b[0;34m\u001b[0m\u001b[0;34m\u001b[0m\u001b[0m\n\u001b[1;32m     72\u001b[0m             \u001b[0;32mdel\u001b[0m \u001b[0mfiltered_tb\u001b[0m\u001b[0;34m\u001b[0m\u001b[0;34m\u001b[0m\u001b[0m\n",
            "\u001b[0;32m/usr/local/lib/python3.10/dist-packages/keras/src/engine/training.py\u001b[0m in \u001b[0;36mtf__train_function\u001b[0;34m(iterator)\u001b[0m\n\u001b[1;32m     13\u001b[0m                 \u001b[0;32mtry\u001b[0m\u001b[0;34m:\u001b[0m\u001b[0;34m\u001b[0m\u001b[0;34m\u001b[0m\u001b[0m\n\u001b[1;32m     14\u001b[0m                     \u001b[0mdo_return\u001b[0m \u001b[0;34m=\u001b[0m \u001b[0;32mTrue\u001b[0m\u001b[0;34m\u001b[0m\u001b[0;34m\u001b[0m\u001b[0m\n\u001b[0;32m---> 15\u001b[0;31m                     \u001b[0mretval_\u001b[0m \u001b[0;34m=\u001b[0m \u001b[0mag__\u001b[0m\u001b[0;34m.\u001b[0m\u001b[0mconverted_call\u001b[0m\u001b[0;34m(\u001b[0m\u001b[0mag__\u001b[0m\u001b[0;34m.\u001b[0m\u001b[0mld\u001b[0m\u001b[0;34m(\u001b[0m\u001b[0mstep_function\u001b[0m\u001b[0;34m)\u001b[0m\u001b[0;34m,\u001b[0m \u001b[0;34m(\u001b[0m\u001b[0mag__\u001b[0m\u001b[0;34m.\u001b[0m\u001b[0mld\u001b[0m\u001b[0;34m(\u001b[0m\u001b[0mself\u001b[0m\u001b[0;34m)\u001b[0m\u001b[0;34m,\u001b[0m \u001b[0mag__\u001b[0m\u001b[0;34m.\u001b[0m\u001b[0mld\u001b[0m\u001b[0;34m(\u001b[0m\u001b[0miterator\u001b[0m\u001b[0;34m)\u001b[0m\u001b[0;34m)\u001b[0m\u001b[0;34m,\u001b[0m \u001b[0;32mNone\u001b[0m\u001b[0;34m,\u001b[0m \u001b[0mfscope\u001b[0m\u001b[0;34m)\u001b[0m\u001b[0;34m\u001b[0m\u001b[0;34m\u001b[0m\u001b[0m\n\u001b[0m\u001b[1;32m     16\u001b[0m                 \u001b[0;32mexcept\u001b[0m\u001b[0;34m:\u001b[0m\u001b[0;34m\u001b[0m\u001b[0;34m\u001b[0m\u001b[0m\n\u001b[1;32m     17\u001b[0m                     \u001b[0mdo_return\u001b[0m \u001b[0;34m=\u001b[0m \u001b[0;32mFalse\u001b[0m\u001b[0;34m\u001b[0m\u001b[0;34m\u001b[0m\u001b[0m\n",
            "\u001b[0;31mValueError\u001b[0m: in user code:\n\n    File \"/usr/local/lib/python3.10/dist-packages/keras/src/engine/training.py\", line 1401, in train_function  *\n        return step_function(self, iterator)\n    File \"/usr/local/lib/python3.10/dist-packages/keras/src/engine/training.py\", line 1384, in step_function  **\n        outputs = model.distribute_strategy.run(run_step, args=(data,))\n    File \"/usr/local/lib/python3.10/dist-packages/keras/src/engine/training.py\", line 1373, in run_step  **\n        outputs = model.train_step(data)\n    File \"/usr/local/lib/python3.10/dist-packages/keras/src/engine/training.py\", line 1150, in train_step\n        y_pred = self(x, training=True)\n    File \"/usr/local/lib/python3.10/dist-packages/keras/src/utils/traceback_utils.py\", line 70, in error_handler\n        raise e.with_traceback(filtered_tb) from None\n    File \"/usr/local/lib/python3.10/dist-packages/keras/src/engine/input_spec.py\", line 235, in assert_input_compatibility\n        raise ValueError(\n\n    ValueError: Exception encountered when calling layer 'sequential_6' (type Sequential).\n    \n    Input 0 of layer \"lstm_5\" is incompatible with the layer: expected ndim=3, found ndim=2. Full shape received: (None, 118)\n    \n    Call arguments received by layer 'sequential_6' (type Sequential):\n      • inputs=tf.Tensor(shape=(None, 118), dtype=int64)\n      • training=True\n      • mask=None\n"
          ]
        }
      ],
      "source": [
        "\n"
      ]
    },
    {
      "cell_type": "markdown",
      "metadata": {
        "id": "QvW29owbDyPT"
      },
      "source": [
        "## Part B"
      ]
    },
    {
      "cell_type": "markdown",
      "source": [
        "**Validate**"
      ],
      "metadata": {
        "id": "FkEj-2qMrXrb"
      }
    },
    {
      "cell_type": "code",
      "execution_count": null,
      "metadata": {
        "id": "nrAV0tDDD1k9",
        "outputId": "64b15e53-446d-43b7-b2b3-70253bc9bbab",
        "colab": {
          "base_uri": "https://localhost:8080/"
        }
      },
      "outputs": [
        {
          "output_type": "stream",
          "name": "stdout",
          "text": [
            "32 32 5 5\n"
          ]
        }
      ],
      "source": [
        "total_len = len(x)\n",
        "\n",
        "#dividing to train and test sets 20% split:\n",
        "trainset_x = x[:int(len(x) - len(x)/8)]\n",
        "trainset_y = y[:int(len(y) - len(y)/8)]\n",
        "testset_x = x[len(trainset_x):]\n",
        "testset_y = y[len(trainset_y):]\n",
        "\n",
        "print(len(trainset_x),len(trainset_y),len(testset_x),len(testset_y))"
      ]
    },
    {
      "cell_type": "markdown",
      "metadata": {
        "id": "yVMei0IcDJzi"
      },
      "source": [
        "## Part C"
      ]
    },
    {
      "cell_type": "markdown",
      "source": [
        "**Do Label Encoding on Data**"
      ],
      "metadata": {
        "id": "a0VOSn2cra17"
      }
    },
    {
      "cell_type": "code",
      "execution_count": null,
      "metadata": {
        "id": "IorNRRBjD-2t"
      },
      "outputs": [],
      "source": [
        "# already done in bow"
      ]
    },
    {
      "cell_type": "markdown",
      "metadata": {
        "id": "HMtABnQ413Xr"
      },
      "source": [
        "## Part D"
      ]
    },
    {
      "cell_type": "markdown",
      "source": [
        "**Create The Model based on LSTM architecture**"
      ],
      "metadata": {
        "id": "HFlgNo3wrk8J"
      }
    },
    {
      "cell_type": "code",
      "execution_count": null,
      "metadata": {
        "id": "18GSm63317G8"
      },
      "outputs": [],
      "source": [
        "model = Sequential()"
      ]
    },
    {
      "cell_type": "code",
      "source": [
        "model.add(Dense(128, input_shape=(len(x[0]),), activation=\"relu\"))\n",
        "model.add(Dense(128, activation=\"relu\"))\n",
        "model.add(Dense(128, activation=\"relu\"))\n",
        "model.add(Dense(len(y[0]), activation=\"softmax\"))"
      ],
      "metadata": {
        "id": "m1wJy9pl7JzP"
      },
      "execution_count": null,
      "outputs": []
    },
    {
      "cell_type": "markdown",
      "metadata": {
        "id": "7sSWhzm23T7v"
      },
      "source": [
        "# Q6"
      ]
    },
    {
      "cell_type": "markdown",
      "source": [
        "## Part A"
      ],
      "metadata": {
        "id": "BHTyQzJmrtBs"
      }
    },
    {
      "cell_type": "markdown",
      "source": [
        "**Compile The Data**"
      ],
      "metadata": {
        "id": "wShUyeU2uq7K"
      }
    },
    {
      "cell_type": "code",
      "execution_count": null,
      "metadata": {
        "id": "r4-EV0Xh27fi"
      },
      "outputs": [],
      "source": [
        "\n",
        "sgd = SGD(learning_rate=0.01, momentum=0.9, nesterov=True)\n",
        "model.compile(loss=\"categorical_crossentropy\", optimizer=sgd, metrics=[\"accuracy\"])\n"
      ]
    },
    {
      "cell_type": "markdown",
      "metadata": {
        "id": "DtiN8MNxEQh0"
      },
      "source": [
        "## Part B"
      ]
    },
    {
      "cell_type": "markdown",
      "source": [
        "**Train The Data**"
      ],
      "metadata": {
        "id": "yfG3ZXvhuvH9"
      }
    },
    {
      "cell_type": "code",
      "execution_count": null,
      "metadata": {
        "id": "5yj0WrXJEVj2",
        "outputId": "03b41026-e3a2-4252-dfa4-f52860bd5184",
        "colab": {
          "base_uri": "https://localhost:8080/"
        }
      },
      "outputs": [
        {
          "output_type": "stream",
          "name": "stdout",
          "text": [
            "Epoch 1/200\n",
            "8/8 [==============================] - 1s 3ms/step - loss: 2.1125 - accuracy: 0.4595\n",
            "Epoch 2/200\n",
            "8/8 [==============================] - 0s 3ms/step - loss: 1.7672 - accuracy: 0.5405\n",
            "Epoch 3/200\n",
            "8/8 [==============================] - 0s 3ms/step - loss: 1.4402 - accuracy: 0.5405\n",
            "Epoch 4/200\n",
            "8/8 [==============================] - 0s 3ms/step - loss: 1.3138 - accuracy: 0.5405\n",
            "Epoch 5/200\n",
            "8/8 [==============================] - 0s 3ms/step - loss: 1.1441 - accuracy: 0.5405\n",
            "Epoch 6/200\n",
            "8/8 [==============================] - 0s 3ms/step - loss: 1.0484 - accuracy: 0.6216\n",
            "Epoch 7/200\n",
            "8/8 [==============================] - 0s 3ms/step - loss: 0.9346 - accuracy: 0.5946\n",
            "Epoch 8/200\n",
            "8/8 [==============================] - 0s 3ms/step - loss: 0.7953 - accuracy: 0.6757\n",
            "Epoch 9/200\n",
            "8/8 [==============================] - 0s 3ms/step - loss: 0.6889 - accuracy: 0.8108\n",
            "Epoch 10/200\n",
            "8/8 [==============================] - 0s 3ms/step - loss: 0.5845 - accuracy: 0.7838\n",
            "Epoch 11/200\n",
            "8/8 [==============================] - 0s 3ms/step - loss: 0.4460 - accuracy: 0.8108\n",
            "Epoch 12/200\n",
            "8/8 [==============================] - 0s 3ms/step - loss: 0.3352 - accuracy: 0.9189\n",
            "Epoch 13/200\n",
            "8/8 [==============================] - 0s 3ms/step - loss: 0.2658 - accuracy: 0.9730\n",
            "Epoch 14/200\n",
            "8/8 [==============================] - 0s 2ms/step - loss: 0.1875 - accuracy: 0.9730\n",
            "Epoch 15/200\n",
            "8/8 [==============================] - 0s 2ms/step - loss: 0.1410 - accuracy: 1.0000\n",
            "Epoch 16/200\n",
            "8/8 [==============================] - 0s 3ms/step - loss: 0.1056 - accuracy: 1.0000\n",
            "Epoch 17/200\n",
            "8/8 [==============================] - 0s 3ms/step - loss: 0.0787 - accuracy: 1.0000\n",
            "Epoch 18/200\n",
            "8/8 [==============================] - 0s 3ms/step - loss: 0.0594 - accuracy: 1.0000\n",
            "Epoch 19/200\n",
            "8/8 [==============================] - 0s 3ms/step - loss: 0.0475 - accuracy: 1.0000\n",
            "Epoch 20/200\n",
            "8/8 [==============================] - 0s 3ms/step - loss: 0.0379 - accuracy: 1.0000\n",
            "Epoch 21/200\n",
            "8/8 [==============================] - 0s 2ms/step - loss: 0.0322 - accuracy: 1.0000\n",
            "Epoch 22/200\n",
            "8/8 [==============================] - 0s 4ms/step - loss: 0.0270 - accuracy: 1.0000\n",
            "Epoch 23/200\n",
            "8/8 [==============================] - 0s 3ms/step - loss: 0.0231 - accuracy: 1.0000\n",
            "Epoch 24/200\n",
            "8/8 [==============================] - 0s 3ms/step - loss: 0.0205 - accuracy: 1.0000\n",
            "Epoch 25/200\n",
            "8/8 [==============================] - 0s 3ms/step - loss: 0.0175 - accuracy: 1.0000\n",
            "Epoch 26/200\n",
            "8/8 [==============================] - 0s 3ms/step - loss: 0.0158 - accuracy: 1.0000\n",
            "Epoch 27/200\n",
            "8/8 [==============================] - 0s 3ms/step - loss: 0.0141 - accuracy: 1.0000\n",
            "Epoch 28/200\n",
            "8/8 [==============================] - 0s 3ms/step - loss: 0.0128 - accuracy: 1.0000\n",
            "Epoch 29/200\n",
            "8/8 [==============================] - 0s 2ms/step - loss: 0.0116 - accuracy: 1.0000\n",
            "Epoch 30/200\n",
            "8/8 [==============================] - 0s 3ms/step - loss: 0.0106 - accuracy: 1.0000\n",
            "Epoch 31/200\n",
            "8/8 [==============================] - 0s 2ms/step - loss: 0.0098 - accuracy: 1.0000\n",
            "Epoch 32/200\n",
            "8/8 [==============================] - 0s 2ms/step - loss: 0.0091 - accuracy: 1.0000\n",
            "Epoch 33/200\n",
            "8/8 [==============================] - 0s 2ms/step - loss: 0.0085 - accuracy: 1.0000\n",
            "Epoch 34/200\n",
            "8/8 [==============================] - 0s 3ms/step - loss: 0.0079 - accuracy: 1.0000\n",
            "Epoch 35/200\n",
            "8/8 [==============================] - 0s 2ms/step - loss: 0.0073 - accuracy: 1.0000\n",
            "Epoch 36/200\n",
            "8/8 [==============================] - 0s 3ms/step - loss: 0.0069 - accuracy: 1.0000\n",
            "Epoch 37/200\n",
            "8/8 [==============================] - 0s 3ms/step - loss: 0.0065 - accuracy: 1.0000\n",
            "Epoch 38/200\n",
            "8/8 [==============================] - 0s 3ms/step - loss: 0.0062 - accuracy: 1.0000\n",
            "Epoch 39/200\n",
            "8/8 [==============================] - 0s 2ms/step - loss: 0.0059 - accuracy: 1.0000\n",
            "Epoch 40/200\n",
            "8/8 [==============================] - 0s 3ms/step - loss: 0.0055 - accuracy: 1.0000\n",
            "Epoch 41/200\n",
            "8/8 [==============================] - 0s 3ms/step - loss: 0.0052 - accuracy: 1.0000\n",
            "Epoch 42/200\n",
            "8/8 [==============================] - 0s 3ms/step - loss: 0.0050 - accuracy: 1.0000\n",
            "Epoch 43/200\n",
            "8/8 [==============================] - 0s 3ms/step - loss: 0.0048 - accuracy: 1.0000\n",
            "Epoch 44/200\n",
            "8/8 [==============================] - 0s 3ms/step - loss: 0.0046 - accuracy: 1.0000\n",
            "Epoch 45/200\n",
            "8/8 [==============================] - 0s 3ms/step - loss: 0.0044 - accuracy: 1.0000\n",
            "Epoch 46/200\n",
            "8/8 [==============================] - 0s 3ms/step - loss: 0.0042 - accuracy: 1.0000\n",
            "Epoch 47/200\n",
            "8/8 [==============================] - 0s 3ms/step - loss: 0.0041 - accuracy: 1.0000\n",
            "Epoch 48/200\n",
            "8/8 [==============================] - 0s 3ms/step - loss: 0.0039 - accuracy: 1.0000\n",
            "Epoch 49/200\n",
            "8/8 [==============================] - 0s 3ms/step - loss: 0.0038 - accuracy: 1.0000\n",
            "Epoch 50/200\n",
            "8/8 [==============================] - 0s 3ms/step - loss: 0.0037 - accuracy: 1.0000\n",
            "Epoch 51/200\n",
            "8/8 [==============================] - 0s 3ms/step - loss: 0.0035 - accuracy: 1.0000\n",
            "Epoch 52/200\n",
            "8/8 [==============================] - 0s 3ms/step - loss: 0.0034 - accuracy: 1.0000\n",
            "Epoch 53/200\n",
            "8/8 [==============================] - 0s 3ms/step - loss: 0.0033 - accuracy: 1.0000\n",
            "Epoch 54/200\n",
            "8/8 [==============================] - 0s 3ms/step - loss: 0.0032 - accuracy: 1.0000\n",
            "Epoch 55/200\n",
            "8/8 [==============================] - 0s 3ms/step - loss: 0.0031 - accuracy: 1.0000\n",
            "Epoch 56/200\n",
            "8/8 [==============================] - 0s 3ms/step - loss: 0.0030 - accuracy: 1.0000\n",
            "Epoch 57/200\n",
            "8/8 [==============================] - 0s 3ms/step - loss: 0.0029 - accuracy: 1.0000\n",
            "Epoch 58/200\n",
            "8/8 [==============================] - 0s 4ms/step - loss: 0.0028 - accuracy: 1.0000\n",
            "Epoch 59/200\n",
            "8/8 [==============================] - 0s 2ms/step - loss: 0.0027 - accuracy: 1.0000\n",
            "Epoch 60/200\n",
            "8/8 [==============================] - 0s 3ms/step - loss: 0.0026 - accuracy: 1.0000\n",
            "Epoch 61/200\n",
            "8/8 [==============================] - 0s 3ms/step - loss: 0.0026 - accuracy: 1.0000\n",
            "Epoch 62/200\n",
            "8/8 [==============================] - 0s 3ms/step - loss: 0.0025 - accuracy: 1.0000\n",
            "Epoch 63/200\n",
            "8/8 [==============================] - 0s 3ms/step - loss: 0.0024 - accuracy: 1.0000\n",
            "Epoch 64/200\n",
            "8/8 [==============================] - 0s 3ms/step - loss: 0.0024 - accuracy: 1.0000\n",
            "Epoch 65/200\n",
            "8/8 [==============================] - 0s 3ms/step - loss: 0.0023 - accuracy: 1.0000\n",
            "Epoch 66/200\n",
            "8/8 [==============================] - 0s 2ms/step - loss: 0.0023 - accuracy: 1.0000\n",
            "Epoch 67/200\n",
            "8/8 [==============================] - 0s 3ms/step - loss: 0.0022 - accuracy: 1.0000\n",
            "Epoch 68/200\n",
            "8/8 [==============================] - 0s 3ms/step - loss: 0.0022 - accuracy: 1.0000\n",
            "Epoch 69/200\n",
            "8/8 [==============================] - 0s 2ms/step - loss: 0.0021 - accuracy: 1.0000\n",
            "Epoch 70/200\n",
            "8/8 [==============================] - 0s 2ms/step - loss: 0.0020 - accuracy: 1.0000\n",
            "Epoch 71/200\n",
            "8/8 [==============================] - 0s 3ms/step - loss: 0.0020 - accuracy: 1.0000\n",
            "Epoch 72/200\n",
            "8/8 [==============================] - 0s 3ms/step - loss: 0.0020 - accuracy: 1.0000\n",
            "Epoch 73/200\n",
            "8/8 [==============================] - 0s 3ms/step - loss: 0.0019 - accuracy: 1.0000\n",
            "Epoch 74/200\n",
            "8/8 [==============================] - 0s 3ms/step - loss: 0.0019 - accuracy: 1.0000\n",
            "Epoch 75/200\n",
            "8/8 [==============================] - 0s 2ms/step - loss: 0.0018 - accuracy: 1.0000\n",
            "Epoch 76/200\n",
            "8/8 [==============================] - 0s 3ms/step - loss: 0.0018 - accuracy: 1.0000\n",
            "Epoch 77/200\n",
            "8/8 [==============================] - 0s 3ms/step - loss: 0.0018 - accuracy: 1.0000\n",
            "Epoch 78/200\n",
            "8/8 [==============================] - 0s 3ms/step - loss: 0.0017 - accuracy: 1.0000\n",
            "Epoch 79/200\n",
            "8/8 [==============================] - 0s 3ms/step - loss: 0.0017 - accuracy: 1.0000\n",
            "Epoch 80/200\n",
            "8/8 [==============================] - 0s 3ms/step - loss: 0.0017 - accuracy: 1.0000\n",
            "Epoch 81/200\n",
            "8/8 [==============================] - 0s 3ms/step - loss: 0.0016 - accuracy: 1.0000\n",
            "Epoch 82/200\n",
            "8/8 [==============================] - 0s 3ms/step - loss: 0.0016 - accuracy: 1.0000\n",
            "Epoch 83/200\n",
            "8/8 [==============================] - 0s 3ms/step - loss: 0.0016 - accuracy: 1.0000\n",
            "Epoch 84/200\n",
            "8/8 [==============================] - 0s 3ms/step - loss: 0.0015 - accuracy: 1.0000\n",
            "Epoch 85/200\n",
            "8/8 [==============================] - 0s 3ms/step - loss: 0.0015 - accuracy: 1.0000\n",
            "Epoch 86/200\n",
            "8/8 [==============================] - 0s 3ms/step - loss: 0.0015 - accuracy: 1.0000\n",
            "Epoch 87/200\n",
            "8/8 [==============================] - 0s 3ms/step - loss: 0.0015 - accuracy: 1.0000\n",
            "Epoch 88/200\n",
            "8/8 [==============================] - 0s 3ms/step - loss: 0.0014 - accuracy: 1.0000\n",
            "Epoch 89/200\n",
            "8/8 [==============================] - 0s 3ms/step - loss: 0.0014 - accuracy: 1.0000\n",
            "Epoch 90/200\n",
            "8/8 [==============================] - 0s 3ms/step - loss: 0.0014 - accuracy: 1.0000\n",
            "Epoch 91/200\n",
            "8/8 [==============================] - 0s 3ms/step - loss: 0.0014 - accuracy: 1.0000\n",
            "Epoch 92/200\n",
            "8/8 [==============================] - 0s 3ms/step - loss: 0.0013 - accuracy: 1.0000\n",
            "Epoch 93/200\n",
            "8/8 [==============================] - 0s 3ms/step - loss: 0.0013 - accuracy: 1.0000\n",
            "Epoch 94/200\n",
            "8/8 [==============================] - 0s 3ms/step - loss: 0.0013 - accuracy: 1.0000\n",
            "Epoch 95/200\n",
            "8/8 [==============================] - 0s 3ms/step - loss: 0.0013 - accuracy: 1.0000\n",
            "Epoch 96/200\n",
            "8/8 [==============================] - 0s 3ms/step - loss: 0.0013 - accuracy: 1.0000\n",
            "Epoch 97/200\n",
            "8/8 [==============================] - 0s 3ms/step - loss: 0.0012 - accuracy: 1.0000\n",
            "Epoch 98/200\n",
            "8/8 [==============================] - 0s 3ms/step - loss: 0.0012 - accuracy: 1.0000\n",
            "Epoch 99/200\n",
            "8/8 [==============================] - 0s 3ms/step - loss: 0.0012 - accuracy: 1.0000\n",
            "Epoch 100/200\n",
            "8/8 [==============================] - 0s 3ms/step - loss: 0.0012 - accuracy: 1.0000\n",
            "Epoch 101/200\n",
            "8/8 [==============================] - 0s 3ms/step - loss: 0.0012 - accuracy: 1.0000\n",
            "Epoch 102/200\n",
            "8/8 [==============================] - 0s 3ms/step - loss: 0.0012 - accuracy: 1.0000\n",
            "Epoch 103/200\n",
            "8/8 [==============================] - 0s 2ms/step - loss: 0.0011 - accuracy: 1.0000\n",
            "Epoch 104/200\n",
            "8/8 [==============================] - 0s 3ms/step - loss: 0.0011 - accuracy: 1.0000\n",
            "Epoch 105/200\n",
            "8/8 [==============================] - 0s 2ms/step - loss: 0.0011 - accuracy: 1.0000\n",
            "Epoch 106/200\n",
            "8/8 [==============================] - 0s 3ms/step - loss: 0.0011 - accuracy: 1.0000\n",
            "Epoch 107/200\n",
            "8/8 [==============================] - 0s 2ms/step - loss: 0.0011 - accuracy: 1.0000\n",
            "Epoch 108/200\n",
            "8/8 [==============================] - 0s 3ms/step - loss: 0.0011 - accuracy: 1.0000\n",
            "Epoch 109/200\n",
            "8/8 [==============================] - 0s 3ms/step - loss: 0.0011 - accuracy: 1.0000\n",
            "Epoch 110/200\n",
            "8/8 [==============================] - 0s 3ms/step - loss: 0.0010 - accuracy: 1.0000\n",
            "Epoch 111/200\n",
            "8/8 [==============================] - 0s 3ms/step - loss: 0.0010 - accuracy: 1.0000\n",
            "Epoch 112/200\n",
            "8/8 [==============================] - 0s 3ms/step - loss: 0.0010 - accuracy: 1.0000\n",
            "Epoch 113/200\n",
            "8/8 [==============================] - 0s 2ms/step - loss: 9.9402e-04 - accuracy: 1.0000\n",
            "Epoch 114/200\n",
            "8/8 [==============================] - 0s 3ms/step - loss: 9.8178e-04 - accuracy: 1.0000\n",
            "Epoch 115/200\n",
            "8/8 [==============================] - 0s 3ms/step - loss: 9.6850e-04 - accuracy: 1.0000\n",
            "Epoch 116/200\n",
            "8/8 [==============================] - 0s 3ms/step - loss: 9.5778e-04 - accuracy: 1.0000\n",
            "Epoch 117/200\n",
            "8/8 [==============================] - 0s 3ms/step - loss: 9.4536e-04 - accuracy: 1.0000\n",
            "Epoch 118/200\n",
            "8/8 [==============================] - 0s 3ms/step - loss: 9.3358e-04 - accuracy: 1.0000\n",
            "Epoch 119/200\n",
            "8/8 [==============================] - 0s 3ms/step - loss: 9.2354e-04 - accuracy: 1.0000\n",
            "Epoch 120/200\n",
            "8/8 [==============================] - 0s 3ms/step - loss: 9.1203e-04 - accuracy: 1.0000\n",
            "Epoch 121/200\n",
            "8/8 [==============================] - 0s 3ms/step - loss: 9.0158e-04 - accuracy: 1.0000\n",
            "Epoch 122/200\n",
            "8/8 [==============================] - 0s 3ms/step - loss: 8.9017e-04 - accuracy: 1.0000\n",
            "Epoch 123/200\n",
            "8/8 [==============================] - 0s 3ms/step - loss: 8.7935e-04 - accuracy: 1.0000\n",
            "Epoch 124/200\n",
            "8/8 [==============================] - 0s 3ms/step - loss: 8.7075e-04 - accuracy: 1.0000\n",
            "Epoch 125/200\n",
            "8/8 [==============================] - 0s 3ms/step - loss: 8.5901e-04 - accuracy: 1.0000\n",
            "Epoch 126/200\n",
            "8/8 [==============================] - 0s 3ms/step - loss: 8.4985e-04 - accuracy: 1.0000\n",
            "Epoch 127/200\n",
            "8/8 [==============================] - 0s 3ms/step - loss: 8.3954e-04 - accuracy: 1.0000\n",
            "Epoch 128/200\n",
            "8/8 [==============================] - 0s 3ms/step - loss: 8.3048e-04 - accuracy: 1.0000\n",
            "Epoch 129/200\n",
            "8/8 [==============================] - 0s 3ms/step - loss: 8.1861e-04 - accuracy: 1.0000\n",
            "Epoch 130/200\n",
            "8/8 [==============================] - 0s 4ms/step - loss: 8.1165e-04 - accuracy: 1.0000\n",
            "Epoch 131/200\n",
            "8/8 [==============================] - 0s 3ms/step - loss: 8.0183e-04 - accuracy: 1.0000\n",
            "Epoch 132/200\n",
            "8/8 [==============================] - 0s 3ms/step - loss: 7.9398e-04 - accuracy: 1.0000\n",
            "Epoch 133/200\n",
            "8/8 [==============================] - 0s 3ms/step - loss: 7.8553e-04 - accuracy: 1.0000\n",
            "Epoch 134/200\n",
            "8/8 [==============================] - 0s 3ms/step - loss: 7.7790e-04 - accuracy: 1.0000\n",
            "Epoch 135/200\n",
            "8/8 [==============================] - 0s 3ms/step - loss: 7.7014e-04 - accuracy: 1.0000\n",
            "Epoch 136/200\n",
            "8/8 [==============================] - 0s 3ms/step - loss: 7.6279e-04 - accuracy: 1.0000\n",
            "Epoch 137/200\n",
            "8/8 [==============================] - 0s 2ms/step - loss: 7.5440e-04 - accuracy: 1.0000\n",
            "Epoch 138/200\n",
            "8/8 [==============================] - 0s 3ms/step - loss: 7.4641e-04 - accuracy: 1.0000\n",
            "Epoch 139/200\n",
            "8/8 [==============================] - 0s 3ms/step - loss: 7.3908e-04 - accuracy: 1.0000\n",
            "Epoch 140/200\n",
            "8/8 [==============================] - 0s 3ms/step - loss: 7.3155e-04 - accuracy: 1.0000\n",
            "Epoch 141/200\n",
            "8/8 [==============================] - 0s 3ms/step - loss: 7.2408e-04 - accuracy: 1.0000\n",
            "Epoch 142/200\n",
            "8/8 [==============================] - 0s 2ms/step - loss: 7.1800e-04 - accuracy: 1.0000\n",
            "Epoch 143/200\n",
            "8/8 [==============================] - 0s 3ms/step - loss: 7.1062e-04 - accuracy: 1.0000\n",
            "Epoch 144/200\n",
            "8/8 [==============================] - 0s 3ms/step - loss: 7.0431e-04 - accuracy: 1.0000\n",
            "Epoch 145/200\n",
            "8/8 [==============================] - 0s 3ms/step - loss: 6.9707e-04 - accuracy: 1.0000\n",
            "Epoch 146/200\n",
            "8/8 [==============================] - 0s 3ms/step - loss: 6.9052e-04 - accuracy: 1.0000\n",
            "Epoch 147/200\n",
            "8/8 [==============================] - 0s 3ms/step - loss: 6.8493e-04 - accuracy: 1.0000\n",
            "Epoch 148/200\n",
            "8/8 [==============================] - 0s 3ms/step - loss: 6.7859e-04 - accuracy: 1.0000\n",
            "Epoch 149/200\n",
            "8/8 [==============================] - 0s 3ms/step - loss: 6.7191e-04 - accuracy: 1.0000\n",
            "Epoch 150/200\n",
            "8/8 [==============================] - 0s 3ms/step - loss: 6.6610e-04 - accuracy: 1.0000\n",
            "Epoch 151/200\n",
            "8/8 [==============================] - 0s 3ms/step - loss: 6.6005e-04 - accuracy: 1.0000\n",
            "Epoch 152/200\n",
            "8/8 [==============================] - 0s 3ms/step - loss: 6.5347e-04 - accuracy: 1.0000\n",
            "Epoch 153/200\n",
            "8/8 [==============================] - 0s 3ms/step - loss: 6.4701e-04 - accuracy: 1.0000\n",
            "Epoch 154/200\n",
            "8/8 [==============================] - 0s 3ms/step - loss: 6.4074e-04 - accuracy: 1.0000\n",
            "Epoch 155/200\n",
            "8/8 [==============================] - 0s 3ms/step - loss: 6.3620e-04 - accuracy: 1.0000\n",
            "Epoch 156/200\n",
            "8/8 [==============================] - 0s 4ms/step - loss: 6.3061e-04 - accuracy: 1.0000\n",
            "Epoch 157/200\n",
            "8/8 [==============================] - 0s 3ms/step - loss: 6.2463e-04 - accuracy: 1.0000\n",
            "Epoch 158/200\n",
            "8/8 [==============================] - 0s 3ms/step - loss: 6.1886e-04 - accuracy: 1.0000\n",
            "Epoch 159/200\n",
            "8/8 [==============================] - 0s 3ms/step - loss: 6.1345e-04 - accuracy: 1.0000\n",
            "Epoch 160/200\n",
            "8/8 [==============================] - 0s 3ms/step - loss: 6.0834e-04 - accuracy: 1.0000\n",
            "Epoch 161/200\n",
            "8/8 [==============================] - 0s 3ms/step - loss: 6.0368e-04 - accuracy: 1.0000\n",
            "Epoch 162/200\n",
            "8/8 [==============================] - 0s 3ms/step - loss: 5.9870e-04 - accuracy: 1.0000\n",
            "Epoch 163/200\n",
            "8/8 [==============================] - 0s 3ms/step - loss: 5.9321e-04 - accuracy: 1.0000\n",
            "Epoch 164/200\n",
            "8/8 [==============================] - 0s 3ms/step - loss: 5.8813e-04 - accuracy: 1.0000\n",
            "Epoch 165/200\n",
            "8/8 [==============================] - 0s 3ms/step - loss: 5.8346e-04 - accuracy: 1.0000\n",
            "Epoch 166/200\n",
            "8/8 [==============================] - 0s 4ms/step - loss: 5.7867e-04 - accuracy: 1.0000\n",
            "Epoch 167/200\n",
            "8/8 [==============================] - 0s 3ms/step - loss: 5.7366e-04 - accuracy: 1.0000\n",
            "Epoch 168/200\n",
            "8/8 [==============================] - 0s 3ms/step - loss: 5.6915e-04 - accuracy: 1.0000\n",
            "Epoch 169/200\n",
            "8/8 [==============================] - 0s 3ms/step - loss: 5.6449e-04 - accuracy: 1.0000\n",
            "Epoch 170/200\n",
            "8/8 [==============================] - 0s 3ms/step - loss: 5.5959e-04 - accuracy: 1.0000\n",
            "Epoch 171/200\n",
            "8/8 [==============================] - 0s 3ms/step - loss: 5.5534e-04 - accuracy: 1.0000\n",
            "Epoch 172/200\n",
            "8/8 [==============================] - 0s 3ms/step - loss: 5.5047e-04 - accuracy: 1.0000\n",
            "Epoch 173/200\n",
            "8/8 [==============================] - 0s 3ms/step - loss: 5.4595e-04 - accuracy: 1.0000\n",
            "Epoch 174/200\n",
            "8/8 [==============================] - 0s 3ms/step - loss: 5.4156e-04 - accuracy: 1.0000\n",
            "Epoch 175/200\n",
            "8/8 [==============================] - 0s 3ms/step - loss: 5.3682e-04 - accuracy: 1.0000\n",
            "Epoch 176/200\n",
            "8/8 [==============================] - 0s 3ms/step - loss: 5.3310e-04 - accuracy: 1.0000\n",
            "Epoch 177/200\n",
            "8/8 [==============================] - 0s 3ms/step - loss: 5.2802e-04 - accuracy: 1.0000\n",
            "Epoch 178/200\n",
            "8/8 [==============================] - 0s 3ms/step - loss: 5.2429e-04 - accuracy: 1.0000\n",
            "Epoch 179/200\n",
            "8/8 [==============================] - 0s 3ms/step - loss: 5.1976e-04 - accuracy: 1.0000\n",
            "Epoch 180/200\n",
            "8/8 [==============================] - 0s 3ms/step - loss: 5.1533e-04 - accuracy: 1.0000\n",
            "Epoch 181/200\n",
            "8/8 [==============================] - 0s 3ms/step - loss: 5.1191e-04 - accuracy: 1.0000\n",
            "Epoch 182/200\n",
            "8/8 [==============================] - 0s 3ms/step - loss: 5.0827e-04 - accuracy: 1.0000\n",
            "Epoch 183/200\n",
            "8/8 [==============================] - 0s 3ms/step - loss: 5.0401e-04 - accuracy: 1.0000\n",
            "Epoch 184/200\n",
            "8/8 [==============================] - 0s 4ms/step - loss: 5.0038e-04 - accuracy: 1.0000\n",
            "Epoch 185/200\n",
            "8/8 [==============================] - 0s 3ms/step - loss: 4.9700e-04 - accuracy: 1.0000\n",
            "Epoch 186/200\n",
            "8/8 [==============================] - 0s 3ms/step - loss: 4.9324e-04 - accuracy: 1.0000\n",
            "Epoch 187/200\n",
            "8/8 [==============================] - 0s 3ms/step - loss: 4.9002e-04 - accuracy: 1.0000\n",
            "Epoch 188/200\n",
            "8/8 [==============================] - 0s 3ms/step - loss: 4.8633e-04 - accuracy: 1.0000\n",
            "Epoch 189/200\n",
            "8/8 [==============================] - 0s 3ms/step - loss: 4.8276e-04 - accuracy: 1.0000\n",
            "Epoch 190/200\n",
            "8/8 [==============================] - 0s 3ms/step - loss: 4.7954e-04 - accuracy: 1.0000\n",
            "Epoch 191/200\n",
            "8/8 [==============================] - 0s 3ms/step - loss: 4.7596e-04 - accuracy: 1.0000\n",
            "Epoch 192/200\n",
            "8/8 [==============================] - 0s 3ms/step - loss: 4.7256e-04 - accuracy: 1.0000\n",
            "Epoch 193/200\n",
            "8/8 [==============================] - 0s 3ms/step - loss: 4.6956e-04 - accuracy: 1.0000\n",
            "Epoch 194/200\n",
            "8/8 [==============================] - 0s 3ms/step - loss: 4.6649e-04 - accuracy: 1.0000\n",
            "Epoch 195/200\n",
            "8/8 [==============================] - 0s 3ms/step - loss: 4.6302e-04 - accuracy: 1.0000\n",
            "Epoch 196/200\n",
            "8/8 [==============================] - 0s 3ms/step - loss: 4.5981e-04 - accuracy: 1.0000\n",
            "Epoch 197/200\n",
            "8/8 [==============================] - 0s 4ms/step - loss: 4.5672e-04 - accuracy: 1.0000\n",
            "Epoch 198/200\n",
            "8/8 [==============================] - 0s 3ms/step - loss: 4.5370e-04 - accuracy: 1.0000\n",
            "Epoch 199/200\n",
            "8/8 [==============================] - 0s 3ms/step - loss: 4.5085e-04 - accuracy: 1.0000\n",
            "Epoch 200/200\n",
            "8/8 [==============================] - 0s 4ms/step - loss: 4.4726e-04 - accuracy: 1.0000\n"
          ]
        },
        {
          "output_type": "stream",
          "name": "stderr",
          "text": [
            "/usr/local/lib/python3.10/dist-packages/keras/src/engine/training.py:3103: UserWarning: You are saving your model as an HDF5 file via `model.save()`. This file format is considered legacy. We recommend using instead the native Keras format, e.g. `model.save('my_model.keras')`.\n",
            "  saving_api.save_model(\n"
          ]
        }
      ],
      "source": [
        "log = model.fit(np.array(x), np.array(y), epochs=200, batch_size=5, verbose=1)\n",
        "model.save(\"chatcraft.h5\", log)"
      ]
    },
    {
      "cell_type": "markdown",
      "metadata": {
        "id": "bBFakPM_4MBe"
      },
      "source": [
        "# Q7"
      ]
    },
    {
      "cell_type": "markdown",
      "source": [
        "**Inference Function**"
      ],
      "metadata": {
        "id": "FSmtN02lu_uU"
      }
    },
    {
      "cell_type": "markdown",
      "metadata": {
        "id": "nx2mLyOSJNcw"
      },
      "source": [
        "**your model should react ' this type of conversation is not allowed' for slang words such as words like Damn or Dude and more**"
      ]
    },
    {
      "cell_type": "markdown",
      "metadata": {
        "id": "0rKDWFfsT7We"
      },
      "source": [
        "**Your model should provide output regarding Artificial Intelligence**"
      ]
    },
    {
      "cell_type": "code",
      "execution_count": null,
      "metadata": {
        "id": "beWNnUh14fqR"
      },
      "outputs": [],
      "source": [
        "import random\n",
        "\n",
        "while True:\n",
        "  texts_p=[]\n",
        "  prediction_input = input(\"you: \")\n",
        "\n",
        "  #removing punctuation\n",
        "  punctuation_removed = \"\"\n",
        "  for char in prediction_input:\n",
        "    if char not in [',','.','!',\"(\",\")\"]\n",
        "        punctuation_removed = punctuation_removed + char\n",
        "  #tokenization and padding\n",
        "\n",
        "\n",
        "  #finding the right tag\n",
        "  if response_tag == 'goodbye':\n",
        "    break"
      ]
    }
  ],
  "metadata": {
    "colab": {
      "provenance": []
    },
    "kernelspec": {
      "display_name": "Python 3",
      "name": "python3"
    },
    "language_info": {
      "name": "python"
    }
  },
  "nbformat": 4,
  "nbformat_minor": 0
}